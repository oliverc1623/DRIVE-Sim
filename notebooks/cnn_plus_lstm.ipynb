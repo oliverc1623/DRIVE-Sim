{
  "cells": [
    {
      "cell_type": "markdown",
      "metadata": {
        "colab_type": "text",
        "id": "view-in-github"
      },
      "source": [
        "<a href=\"https://colab.research.google.com/github/mijanr/TimeSeries/blob/master/Time-Series%20Classification/cnn_plus_lstm.ipynb\" target=\"_parent\"><img src=\"https://colab.research.google.com/assets/colab-badge.svg\" alt=\"Open In Colab\"/></a>"
      ]
    },
    {
      "cell_type": "code",
      "execution_count": 2,
      "metadata": {
        "id": "JRB8m0tRWTo1"
      },
      "outputs": [],
      "source": [
        "# Import necessary modules\n",
        "import torch\n",
        "import torch.nn as nn\n",
        "from torch.utils.data import DataLoader\n",
        "from torch.optim import Adam\n",
        "\n",
        "import numpy as np\n",
        "from sklearn.metrics import accuracy_score\n",
        "from tslearn.datasets import UCR_UEA_datasets\n",
        "from tslearn.preprocessing import TimeSeriesScalerMeanVariance, TimeSeriesResampler, TimeSeriesScalerMinMax\n",
        "\n",
        "from typing import List\n",
        "import matplotlib.pyplot as plt"
      ]
    },
    {
      "cell_type": "code",
      "execution_count": 3,
      "metadata": {
        "id": "5jfPWQgBWTo5"
      },
      "outputs": [],
      "source": [
        "dataset_name = 'ElectricDevices'"
      ]
    },
    {
      "cell_type": "code",
      "execution_count": 4,
      "metadata": {
        "id": "YvnzpXcuWTo7"
      },
      "outputs": [],
      "source": [
        "# Load and preprocess the time series data\n",
        "X_train, y_train, X_test, y_test = UCR_UEA_datasets().load_dataset(dataset_name)"
      ]
    },
    {
      "cell_type": "code",
      "execution_count": 45,
      "metadata": {
        "colab": {
          "base_uri": "https://localhost:8080/"
        },
        "id": "odjHcgDaWTo8",
        "outputId": "962b2c5e-7612-4725-bdb6-c616766dd0a8"
      },
      "outputs": [
        {
          "data": {
            "text/plain": [
              "(torch.Size([8926, 96, 1]),\n",
              " torch.Size([8926]),\n",
              " torch.Size([7711, 96, 1]),\n",
              " torch.Size([7711]))"
            ]
          },
          "execution_count": 45,
          "metadata": {},
          "output_type": "execute_result"
        }
      ],
      "source": [
        "X_train.shape, y_train.shape, X_test.shape, y_test.shape"
      ]
    },
    {
      "cell_type": "code",
      "execution_count": 6,
      "metadata": {
        "id": "qa2kJLU2WTo_"
      },
      "outputs": [],
      "source": [
        "#normalize the data\n",
        "X_train = TimeSeriesScalerMinMax().fit_transform(X_train)\n",
        "X_test = TimeSeriesScalerMinMax().fit_transform(X_test)"
      ]
    },
    {
      "cell_type": "code",
      "execution_count": 6,
      "metadata": {
        "id": "d6LUFbKfWTpA"
      },
      "outputs": [],
      "source": [
        "# Resample the data to 128 time steps\n",
        "# X_train = TimeSeriesResampler(sz=128).fit_transform(X_train)\n",
        "# X_test = TimeSeriesResampler(sz=128).fit_transform(X_test)"
      ]
    },
    {
      "cell_type": "code",
      "execution_count": 7,
      "metadata": {
        "id": "A-SGAmD5WTpB"
      },
      "outputs": [],
      "source": [
        "# Convert the data to torch tensors\n",
        "X_train = torch.from_numpy(X_train).float()\n",
        "X_test = torch.from_numpy(X_test).float()\n",
        "y_train = torch.from_numpy(y_train).long()\n",
        "y_test = torch.from_numpy(y_test).long()"
      ]
    },
    {
      "cell_type": "code",
      "execution_count": 8,
      "metadata": {
        "id": "qMzzIQrHWTpC"
      },
      "outputs": [],
      "source": [
        "#start class from 0\n",
        "y_train = y_train - 1\n",
        "y_test = y_test - 1"
      ]
    },
    {
      "cell_type": "code",
      "execution_count": 9,
      "metadata": {
        "id": "W0UG2krzWTpD"
      },
      "outputs": [],
      "source": [
        "#Datasets\n",
        "train_dataset = torch.utils.data.TensorDataset(X_train, y_train)\n",
        "test_dataset = torch.utils.data.TensorDataset(X_test, y_test)\n",
        "#Dataloaders\n",
        "train_loader = DataLoader(train_dataset, batch_size=64, shuffle=True)\n",
        "test_loader = DataLoader(test_dataset, batch_size=64, shuffle=False)"
      ]
    },
    {
      "cell_type": "code",
      "execution_count": 10,
      "metadata": {},
      "outputs": [
        {
          "name": "stdout",
          "output_type": "stream",
          "text": [
            "cpu\n"
          ]
        }
      ],
      "source": [
        "device = torch.device(\"cuda:0\" if torch.cuda.is_available() else \"cpu\")\n",
        "print(device)"
      ]
    },
    {
      "cell_type": "code",
      "execution_count": 31,
      "metadata": {},
      "outputs": [
        {
          "name": "stdout",
          "output_type": "stream",
          "text": [
            "torch.Size([64, 96, 1])\n",
            "torch.Size([64, 96, 1])\n",
            "torch.Size([64, 96, 1])\n",
            "torch.Size([64, 96, 1])\n",
            "torch.Size([64, 96, 1])\n",
            "torch.Size([64, 96, 1])\n",
            "torch.Size([64, 96, 1])\n",
            "torch.Size([64, 96, 1])\n",
            "torch.Size([64, 96, 1])\n",
            "torch.Size([64, 96, 1])\n",
            "torch.Size([64, 96, 1])\n",
            "torch.Size([64, 96, 1])\n",
            "torch.Size([64, 96, 1])\n",
            "torch.Size([64, 96, 1])\n",
            "torch.Size([64, 96, 1])\n",
            "torch.Size([64, 96, 1])\n",
            "torch.Size([64, 96, 1])\n",
            "torch.Size([64, 96, 1])\n",
            "torch.Size([64, 96, 1])\n",
            "torch.Size([64, 96, 1])\n",
            "torch.Size([64, 96, 1])\n",
            "torch.Size([64, 96, 1])\n",
            "torch.Size([64, 96, 1])\n",
            "torch.Size([64, 96, 1])\n",
            "torch.Size([64, 96, 1])\n",
            "torch.Size([64, 96, 1])\n",
            "torch.Size([64, 96, 1])\n",
            "torch.Size([64, 96, 1])\n",
            "torch.Size([64, 96, 1])\n",
            "torch.Size([64, 96, 1])\n",
            "torch.Size([64, 96, 1])\n",
            "torch.Size([64, 96, 1])\n",
            "torch.Size([64, 96, 1])\n",
            "torch.Size([64, 96, 1])\n",
            "torch.Size([64, 96, 1])\n",
            "torch.Size([64, 96, 1])\n",
            "torch.Size([64, 96, 1])\n",
            "torch.Size([64, 96, 1])\n",
            "torch.Size([64, 96, 1])\n",
            "torch.Size([64, 96, 1])\n",
            "torch.Size([64, 96, 1])\n",
            "torch.Size([64, 96, 1])\n",
            "torch.Size([64, 96, 1])\n",
            "torch.Size([64, 96, 1])\n",
            "torch.Size([64, 96, 1])\n",
            "torch.Size([64, 96, 1])\n",
            "torch.Size([64, 96, 1])\n",
            "torch.Size([64, 96, 1])\n",
            "torch.Size([64, 96, 1])\n",
            "torch.Size([64, 96, 1])\n",
            "torch.Size([64, 96, 1])\n",
            "torch.Size([64, 96, 1])\n",
            "torch.Size([64, 96, 1])\n",
            "torch.Size([64, 96, 1])\n",
            "torch.Size([64, 96, 1])\n",
            "torch.Size([64, 96, 1])\n",
            "torch.Size([64, 96, 1])\n",
            "torch.Size([64, 96, 1])\n",
            "torch.Size([64, 96, 1])\n",
            "torch.Size([64, 96, 1])\n",
            "torch.Size([64, 96, 1])\n",
            "torch.Size([64, 96, 1])\n",
            "torch.Size([64, 96, 1])\n",
            "torch.Size([64, 96, 1])\n",
            "torch.Size([64, 96, 1])\n",
            "torch.Size([64, 96, 1])\n",
            "torch.Size([64, 96, 1])\n",
            "torch.Size([64, 96, 1])\n",
            "torch.Size([64, 96, 1])\n",
            "torch.Size([64, 96, 1])\n",
            "torch.Size([64, 96, 1])\n",
            "torch.Size([64, 96, 1])\n",
            "torch.Size([64, 96, 1])\n",
            "torch.Size([64, 96, 1])\n",
            "torch.Size([64, 96, 1])\n",
            "torch.Size([64, 96, 1])\n",
            "torch.Size([64, 96, 1])\n",
            "torch.Size([64, 96, 1])\n",
            "torch.Size([64, 96, 1])\n",
            "torch.Size([64, 96, 1])\n",
            "torch.Size([64, 96, 1])\n",
            "torch.Size([64, 96, 1])\n",
            "torch.Size([64, 96, 1])\n",
            "torch.Size([64, 96, 1])\n",
            "torch.Size([64, 96, 1])\n",
            "torch.Size([64, 96, 1])\n",
            "torch.Size([64, 96, 1])\n",
            "torch.Size([64, 96, 1])\n",
            "torch.Size([64, 96, 1])\n",
            "torch.Size([64, 96, 1])\n",
            "torch.Size([64, 96, 1])\n",
            "torch.Size([64, 96, 1])\n",
            "torch.Size([64, 96, 1])\n",
            "torch.Size([64, 96, 1])\n",
            "torch.Size([64, 96, 1])\n",
            "torch.Size([64, 96, 1])\n",
            "torch.Size([64, 96, 1])\n",
            "torch.Size([64, 96, 1])\n",
            "torch.Size([64, 96, 1])\n",
            "torch.Size([64, 96, 1])\n",
            "torch.Size([64, 96, 1])\n",
            "torch.Size([64, 96, 1])\n",
            "torch.Size([64, 96, 1])\n",
            "torch.Size([64, 96, 1])\n",
            "torch.Size([64, 96, 1])\n",
            "torch.Size([64, 96, 1])\n",
            "torch.Size([64, 96, 1])\n",
            "torch.Size([64, 96, 1])\n",
            "torch.Size([64, 96, 1])\n",
            "torch.Size([64, 96, 1])\n",
            "torch.Size([64, 96, 1])\n",
            "torch.Size([64, 96, 1])\n",
            "torch.Size([64, 96, 1])\n",
            "torch.Size([64, 96, 1])\n",
            "torch.Size([64, 96, 1])\n",
            "torch.Size([64, 96, 1])\n",
            "torch.Size([64, 96, 1])\n",
            "torch.Size([64, 96, 1])\n",
            "torch.Size([64, 96, 1])\n",
            "torch.Size([64, 96, 1])\n",
            "torch.Size([64, 96, 1])\n",
            "torch.Size([64, 96, 1])\n",
            "torch.Size([64, 96, 1])\n",
            "torch.Size([64, 96, 1])\n",
            "torch.Size([64, 96, 1])\n",
            "torch.Size([64, 96, 1])\n",
            "torch.Size([64, 96, 1])\n",
            "torch.Size([64, 96, 1])\n",
            "torch.Size([64, 96, 1])\n",
            "torch.Size([64, 96, 1])\n",
            "torch.Size([64, 96, 1])\n",
            "torch.Size([64, 96, 1])\n",
            "torch.Size([64, 96, 1])\n",
            "torch.Size([64, 96, 1])\n",
            "torch.Size([64, 96, 1])\n",
            "torch.Size([64, 96, 1])\n",
            "torch.Size([64, 96, 1])\n",
            "torch.Size([64, 96, 1])\n",
            "torch.Size([64, 96, 1])\n",
            "torch.Size([30, 96, 1])\n"
          ]
        }
      ],
      "source": [
        "for i, (x,y) in enumerate(train_loader):\n",
        "    print(x.shape)"
      ]
    },
    {
      "cell_type": "code",
      "execution_count": 11,
      "metadata": {},
      "outputs": [],
      "source": [
        "# model 1: CNN + LSTM\n",
        "# model 2: LSTM + CNN\n",
        "# model 3: CNN LSTM parallel\n",
        "\n",
        "class CNN_LSTM(nn.Module):\n",
        "    def __init__(self, input_size, hidden_size, num_layers, num_classes):\n",
        "        super(CNN_LSTM, self).__init__()\n",
        "        self.cnn = nn.Sequential(\n",
        "            nn.Conv1d(in_channels=input_size, out_channels=64, kernel_size=3, stride=1, padding=1),\n",
        "            nn.ReLU(),\n",
        "            nn.MaxPool1d(kernel_size=2, stride=2),\n",
        "            nn.Conv1d(in_channels=64, out_channels=128, kernel_size=3, stride=1, padding=1),\n",
        "            nn.ReLU(),\n",
        "            nn.MaxPool1d(kernel_size=2, stride=2)\n",
        "        )\n",
        "        self.lstm = nn.LSTM(input_size=128, hidden_size=hidden_size, num_layers=num_layers, batch_first=True)\n",
        "        self.fc = nn.Linear(hidden_size, num_classes)\n",
        "\n",
        "    def forward(self, x):\n",
        "        #cnn takes input of shape (batch_size, channels, seq_len)\n",
        "        x = x.permute(0, 2, 1)\n",
        "        out = self.cnn(x)\n",
        "        # lstm takes input of shape (batch_size, seq_len, input_size)\n",
        "        out = out.permute(0, 2, 1)\n",
        "        out, _ = self.lstm(out)\n",
        "        out = self.fc(out[:, -1, :])\n",
        "        return out"
      ]
    },
    {
      "cell_type": "code",
      "execution_count": 12,
      "metadata": {},
      "outputs": [],
      "source": [
        "class LSTM_CNN(nn.Module):\n",
        "    def __init__(self, input_size, hidden_size, num_layers, num_classes):\n",
        "        super(LSTM_CNN, self).__init__()\n",
        "        self.lstm = nn.LSTM(input_size=input_size, hidden_size=hidden_size, num_layers=num_layers, batch_first=True)\n",
        "        self.cnn = nn.Sequential(\n",
        "            nn.Conv1d(in_channels=hidden_size, out_channels=64, kernel_size=3, stride=1, padding=1),\n",
        "            nn.ReLU(),\n",
        "            nn.MaxPool1d(kernel_size=2, stride=2),\n",
        "            nn.Conv1d(in_channels=64, out_channels=128, kernel_size=3, stride=1, padding=1),\n",
        "            nn.ReLU(),\n",
        "            nn.MaxPool1d(kernel_size=2, stride=2),\n",
        "            #flatten\n",
        "            nn.Flatten(),\n",
        "            nn.LazyLinear(out_features=256),\n",
        "            nn.ReLU(),\n",
        "            nn.Linear(in_features=256, out_features=num_classes)\n",
        "        )\n",
        "\n",
        "    def forward(self, x):\n",
        "        out, _ = self.lstm(x)\n",
        "        out = out.permute(0, 2, 1)\n",
        "        out = self.cnn(out)\n",
        "        return out"
      ]
    },
    {
      "cell_type": "code",
      "execution_count": 13,
      "metadata": {},
      "outputs": [],
      "source": [
        "# model 3: CNN LSTM parallel\n",
        "class ParallelCNNLSTMModel(nn.Module):\n",
        "    def __init__(self, input_size, hidden_size, num_layers, num_classes):\n",
        "        super(ParallelCNNLSTMModel, self).__init__()\n",
        "        self.cnn = nn.Sequential(\n",
        "            nn.Conv1d(in_channels=input_size, out_channels=64, kernel_size=3, stride=1, padding=1),\n",
        "            nn.ReLU(),\n",
        "            nn.MaxPool1d(kernel_size=2, stride=2),\n",
        "            nn.Conv1d(in_channels=64, out_channels=128, kernel_size=3, stride=1, padding=1),\n",
        "            nn.ReLU(),\n",
        "            nn.MaxPool1d(kernel_size=2, stride=2),\n",
        "            nn.Flatten(),\n",
        "            nn.LazyLinear(out_features=128),\n",
        "            nn.ReLU()\n",
        "        )\n",
        "        self.lstm = nn.LSTM(input_size=input_size, hidden_size=hidden_size, num_layers=num_layers, batch_first=True)\n",
        "        self.fc_lstm = nn.Linear(hidden_size, 128)\n",
        "        self.fc = nn.Linear(128*2, num_classes)\n",
        "\n",
        "    def forward(self, x):\n",
        "        #cnn takes input of shape (batch_size, channels, seq_len)\n",
        "        x_cnn = x.permute(0, 2, 1)\n",
        "        out_cnn = self.cnn(x_cnn)\n",
        "        # lstm takes input of shape (batch_size, seq_len, input_size)\n",
        "        out_lstm, _ = self.lstm(x)\n",
        "        out_lstm = self.fc_lstm(out_lstm[:, -1, :])\n",
        "        out = torch.cat([out_cnn, out_lstm], dim=1)\n",
        "        out = self.fc(out)\n",
        "        return out"
      ]
    },
    {
      "cell_type": "code",
      "execution_count": 14,
      "metadata": {},
      "outputs": [
        {
          "name": "stderr",
          "output_type": "stream",
          "text": [
            "/Users/oliverchang/opt/anaconda3/envs/vista/lib/python3.8/site-packages/torch/nn/modules/lazy.py:180: UserWarning: Lazy modules are a new feature under heavy development so changes to the API or functionality can happen at any moment.\n",
            "  warnings.warn('Lazy modules are a new feature under heavy development '\n"
          ]
        }
      ],
      "source": [
        "input_size = X_train.shape[-1]\n",
        "hidden_size = 128\n",
        "num_layers = 2\n",
        "num_classes = len(np.unique(y_train))\n",
        "\n",
        "cnn_lstm = CNN_LSTM(input_size, hidden_size, num_layers, num_classes).to(device)\n",
        "lstm_cnn = LSTM_CNN(input_size, hidden_size, num_layers, num_classes).to(device)\n",
        "cnn_lstm_parallel = ParallelCNNLSTMModel(input_size, hidden_size, num_layers, num_classes).to(device)"
      ]
    },
    {
      "cell_type": "code",
      "execution_count": 17,
      "metadata": {
        "id": "7q2zEwkiWTpP"
      },
      "outputs": [],
      "source": [
        "def train(models:List, train_loader:DataLoader, epochs:int):\n",
        "    criterion = nn.CrossEntropyLoss()\n",
        "    for model in models:\n",
        "        print(\"Training model: \", model.__class__.__name__)\n",
        "        model.train()\n",
        "        optimizer = Adam(model.parameters(), lr=0.001)\n",
        "        for epoch in range(epochs):\n",
        "            for i, (x, y) in enumerate(train_loader):\n",
        "                x = x.to(device)\n",
        "                print(x.shape)\n",
        "                y = y.to(device)\n",
        "                optimizer.zero_grad()\n",
        "                y_pred = model(x)\n",
        "                loss = criterion(y_pred, y)\n",
        "                loss.backward()\n",
        "                optimizer.step()\n",
        "                if (i+1) % 10 == 0:\n",
        "                    print(f'Epoch [{epoch+1}/{epochs}], Step [{i+1}/{len(train_loader)}], Loss: {loss.item():.4f}')\n",
        "        print(\"Training completed for model: \", model.__class__.__name__)"
      ]
    },
    {
      "cell_type": "code",
      "execution_count": 18,
      "metadata": {
        "colab": {
          "base_uri": "https://localhost:8080/"
        },
        "id": "6h3DZNLuWTpP",
        "outputId": "603adf68-4c05-4f90-c37c-32300fdc4878"
      },
      "outputs": [
        {
          "name": "stdout",
          "output_type": "stream",
          "text": [
            "Training model:  CNN_LSTM\n",
            "torch.Size([64, 96, 1])\n",
            "torch.Size([64, 96, 1])\n",
            "torch.Size([64, 96, 1])\n",
            "torch.Size([64, 96, 1])\n",
            "torch.Size([64, 96, 1])\n",
            "torch.Size([64, 96, 1])\n",
            "torch.Size([64, 96, 1])\n",
            "torch.Size([64, 96, 1])\n",
            "torch.Size([64, 96, 1])\n",
            "torch.Size([64, 96, 1])\n",
            "Epoch [1/200], Step [10/140], Loss: 0.9359\n",
            "torch.Size([64, 96, 1])\n",
            "torch.Size([64, 96, 1])\n",
            "torch.Size([64, 96, 1])\n",
            "torch.Size([64, 96, 1])\n",
            "torch.Size([64, 96, 1])\n",
            "torch.Size([64, 96, 1])\n",
            "torch.Size([64, 96, 1])\n",
            "torch.Size([64, 96, 1])\n",
            "torch.Size([64, 96, 1])\n",
            "torch.Size([64, 96, 1])\n",
            "Epoch [1/200], Step [20/140], Loss: 0.8671\n",
            "torch.Size([64, 96, 1])\n",
            "torch.Size([64, 96, 1])\n",
            "torch.Size([64, 96, 1])\n",
            "torch.Size([64, 96, 1])\n",
            "torch.Size([64, 96, 1])\n",
            "torch.Size([64, 96, 1])\n",
            "torch.Size([64, 96, 1])\n",
            "torch.Size([64, 96, 1])\n",
            "torch.Size([64, 96, 1])\n"
          ]
        },
        {
          "ename": "KeyboardInterrupt",
          "evalue": "",
          "output_type": "error",
          "traceback": [
            "\u001b[0;31m---------------------------------------------------------------------------\u001b[0m",
            "\u001b[0;31mKeyboardInterrupt\u001b[0m                         Traceback (most recent call last)",
            "Cell \u001b[0;32mIn[18], line 4\u001b[0m\n\u001b[1;32m      2\u001b[0m models \u001b[39m=\u001b[39m [cnn_lstm, lstm_cnn, cnn_lstm_parallel]\n\u001b[1;32m      3\u001b[0m num_epochs \u001b[39m=\u001b[39m \u001b[39m200\u001b[39m\n\u001b[0;32m----> 4\u001b[0m train(models, train_loader, epochs\u001b[39m=\u001b[39;49mnum_epochs)\n",
            "Cell \u001b[0;32mIn[17], line 15\u001b[0m, in \u001b[0;36mtrain\u001b[0;34m(models, train_loader, epochs)\u001b[0m\n\u001b[1;32m     13\u001b[0m y_pred \u001b[39m=\u001b[39m model(x)\n\u001b[1;32m     14\u001b[0m loss \u001b[39m=\u001b[39m criterion(y_pred, y)\n\u001b[0;32m---> 15\u001b[0m loss\u001b[39m.\u001b[39;49mbackward()\n\u001b[1;32m     16\u001b[0m optimizer\u001b[39m.\u001b[39mstep()\n\u001b[1;32m     17\u001b[0m \u001b[39mif\u001b[39;00m (i\u001b[39m+\u001b[39m\u001b[39m1\u001b[39m) \u001b[39m%\u001b[39m \u001b[39m10\u001b[39m \u001b[39m==\u001b[39m \u001b[39m0\u001b[39m:\n",
            "File \u001b[0;32m~/opt/anaconda3/envs/vista/lib/python3.8/site-packages/torch/_tensor.py:487\u001b[0m, in \u001b[0;36mTensor.backward\u001b[0;34m(self, gradient, retain_graph, create_graph, inputs)\u001b[0m\n\u001b[1;32m    477\u001b[0m \u001b[39mif\u001b[39;00m has_torch_function_unary(\u001b[39mself\u001b[39m):\n\u001b[1;32m    478\u001b[0m     \u001b[39mreturn\u001b[39;00m handle_torch_function(\n\u001b[1;32m    479\u001b[0m         Tensor\u001b[39m.\u001b[39mbackward,\n\u001b[1;32m    480\u001b[0m         (\u001b[39mself\u001b[39m,),\n\u001b[0;32m   (...)\u001b[0m\n\u001b[1;32m    485\u001b[0m         inputs\u001b[39m=\u001b[39minputs,\n\u001b[1;32m    486\u001b[0m     )\n\u001b[0;32m--> 487\u001b[0m torch\u001b[39m.\u001b[39;49mautograd\u001b[39m.\u001b[39;49mbackward(\n\u001b[1;32m    488\u001b[0m     \u001b[39mself\u001b[39;49m, gradient, retain_graph, create_graph, inputs\u001b[39m=\u001b[39;49minputs\n\u001b[1;32m    489\u001b[0m )\n",
            "File \u001b[0;32m~/opt/anaconda3/envs/vista/lib/python3.8/site-packages/torch/autograd/__init__.py:200\u001b[0m, in \u001b[0;36mbackward\u001b[0;34m(tensors, grad_tensors, retain_graph, create_graph, grad_variables, inputs)\u001b[0m\n\u001b[1;32m    195\u001b[0m     retain_graph \u001b[39m=\u001b[39m create_graph\n\u001b[1;32m    197\u001b[0m \u001b[39m# The reason we repeat same the comment below is that\u001b[39;00m\n\u001b[1;32m    198\u001b[0m \u001b[39m# some Python versions print out the first line of a multi-line function\u001b[39;00m\n\u001b[1;32m    199\u001b[0m \u001b[39m# calls in the traceback and some print out the last line\u001b[39;00m\n\u001b[0;32m--> 200\u001b[0m Variable\u001b[39m.\u001b[39;49m_execution_engine\u001b[39m.\u001b[39;49mrun_backward(  \u001b[39m# Calls into the C++ engine to run the backward pass\u001b[39;49;00m\n\u001b[1;32m    201\u001b[0m     tensors, grad_tensors_, retain_graph, create_graph, inputs,\n\u001b[1;32m    202\u001b[0m     allow_unreachable\u001b[39m=\u001b[39;49m\u001b[39mTrue\u001b[39;49;00m, accumulate_grad\u001b[39m=\u001b[39;49m\u001b[39mTrue\u001b[39;49;00m)\n",
            "\u001b[0;31mKeyboardInterrupt\u001b[0m: "
          ]
        }
      ],
      "source": [
        "#train\n",
        "models = [cnn_lstm, lstm_cnn, cnn_lstm_parallel]\n",
        "num_epochs = 200\n",
        "train(models, train_loader, epochs=num_epochs)"
      ]
    },
    {
      "cell_type": "code",
      "execution_count": 103,
      "metadata": {
        "id": "e60h3UIGWTpP"
      },
      "outputs": [],
      "source": [
        "#test\n",
        "def test(models, test_loader):\n",
        "    with torch.no_grad():\n",
        "        correct = 0\n",
        "        total = 0\n",
        "        accuracy_dict = {}\n",
        "        for model in models:\n",
        "            model.eval()\n",
        "            for x, y in test_loader:\n",
        "                x = x.to(device)\n",
        "                y = y.to(device)\n",
        "                y_pred = model(x)\n",
        "                _, predicted = torch.max(y_pred.data, 1)\n",
        "                total += y.size(0)\n",
        "                correct += (predicted == y).sum().item()\n",
        "            print(f'Accuracy of the {model.__class__.__name__} model on the test set: {100 * correct / total:.2f} %')\n",
        "            accuracy_dict[model.__class__.__name__] = 100 * correct / total\n",
        "    return accuracy_dict"
      ]
    },
    {
      "cell_type": "code",
      "execution_count": 104,
      "metadata": {
        "colab": {
          "base_uri": "https://localhost:8080/"
        },
        "id": "RNouFrDJWTpQ",
        "outputId": "1fd38a45-3084-4225-d299-a7e8e4d156de"
      },
      "outputs": [
        {
          "name": "stdout",
          "output_type": "stream",
          "text": [
            "Accuracy of the CNN_LSTM model on the test set: 72.27 %\n",
            "Accuracy of the LSTM_CNN model on the test set: 69.73 %\n",
            "Accuracy of the ParallelCNNLSTMModel model on the test set: 69.84 %\n"
          ]
        }
      ],
      "source": [
        "accuracy_dict = test(models, test_loader)"
      ]
    },
    {
      "cell_type": "code",
      "execution_count": 107,
      "metadata": {},
      "outputs": [
        {
          "data": {
            "text/plain": [
              "<AxesSubplot: >"
            ]
          },
          "execution_count": 107,
          "metadata": {},
          "output_type": "execute_result"
        },
        {
          "data": {
            "image/png": "[encoded data removed]",
            "text/plain": [
              "<Figure size 640x480 with 1 Axes>"
            ]
          },
          "metadata": {},
          "output_type": "display_data"
        }
      ],
      "source": [
        "#plot bar chart with the accuracy of each model\n",
        "sns.barplot(x=list(accuracy_dict.keys()), y=list(accuracy_dict.values()))"
      ]
    },
    {
      "cell_type": "code",
      "execution_count": null,
      "metadata": {},
      "outputs": [],
      "source": []
    }
  ],
  "metadata": {
    "accelerator": "GPU",
    "colab": {
      "include_colab_link": true,
      "provenance": []
    },
    "gpuClass": "standard",
    "kernelspec": {
      "display_name": "Python 3.9.15 ('pytorch')",
      "language": "python",
      "name": "python3"
    },
    "language_info": {
      "codemirror_mode": {
        "name": "ipython",
        "version": 3
      },
      "file_extension": ".py",
      "mimetype": "text/x-python",
      "name": "python",
      "nbconvert_exporter": "python",
      "pygments_lexer": "ipython3",
      "version": "3.8.16"
    },
    "orig_nbformat": 4,
    "vscode": {
      "interpreter": {
        "hash": "77f0ac4a1ff910c6f832be6ab53afe92115f75471ff7ffff1273b50351d0e386"
      }
    }
  },
  "nbformat": 4,
  "nbformat_minor": 0
}
