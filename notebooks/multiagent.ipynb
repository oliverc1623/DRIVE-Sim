{
 "cells": [
  {
   "cell_type": "code",
   "execution_count": 82,
   "metadata": {},
   "outputs": [],
   "source": [
    "import os\n",
    "import numpy as np\n",
    "import copy\n",
    "import cv2\n",
    "import matplotlib.pyplot as plt\n",
    "from matplotlib import cm\n",
    "from shapely.geometry import box as Box\n",
    "from shapely import affinity\n",
    "\n",
    "import vista\n",
    "from vista.entities.sensors.camera_utils.ViewSynthesis import DepthModes\n",
    "from vista.utils import logging\n",
    "from vista.tasks import MultiAgentBase\n",
    "from vista.utils import transform"
   ]
  },
  {
   "cell_type": "code",
   "execution_count": 83,
   "metadata": {},
   "outputs": [],
   "source": [
    "def my_reward_fn(task, agent_id, **kwargs):\n",
    "    agent = [_a for _a in task.world.agents if _a.id == agent_id][0]\n",
    "    q_lat = np.abs(agent.relative_state.x)\n",
    "    road_width = agent.trace.road_width\n",
    "    z_lat = road_width / 2\n",
    "    lane_reward = round(1 - (q_lat/z_lat)**2, 4)\n",
    "    # differential = 0.0 if prev_curvature==0.0 else -np.abs(curvature_action - prev_curvature)\n",
    "    # reward = (lane_reward + differential) if not kwargs['done'] else torch.tensor(0.0, dtype=torch.float32)\n",
    "    # if reward < 0:\n",
    "    #     reward = torch.tensor(0.0, dtype=torch.float32)\n",
    "    reward = lane_reward\n",
    "    return reward, {}"
   ]
  },
  {
   "cell_type": "code",
   "execution_count": 84,
   "metadata": {},
   "outputs": [
    {
     "name": "stderr",
     "output_type": "stream",
     "text": [
      "\u001b[93m2023-07-29 13:48:21,272::WARNING::[vista.core.Trace._divide_to_good_segments] No video_label.csv\u001b[0;0m\n",
      "\u001b[93m2023-07-29 13:48:21,437::WARNING::[vista.core.Trace._divide_to_good_segments] No video_label.csv\u001b[0;0m\n",
      "\u001b[93m2023-07-29 13:48:21,610::WARNING::[vista.core.Trace._divide_to_good_segments] No video_label.csv\u001b[0;0m\n",
      "\u001b[93m2023-07-29 13:48:21,781::WARNING::[vista.core.Trace._divide_to_good_segments] No video_label.csv\u001b[0;0m\n"
     ]
    },
    {
     "data": {
      "image/png": "[encoded data removed]",
      "text/plain": [
       "<Figure size 960x320 with 2 Axes>"
      ]
     },
     "metadata": {},
     "output_type": "display_data"
    }
   ],
   "source": [
    "# Initialize the simulator\n",
    "trace_config = dict(\n",
    "    road_width=4,\n",
    "    reset_mode='default',\n",
    "    master_sensor='camera_front',\n",
    ")\n",
    "car_config = dict(\n",
    "    length=5.,\n",
    "    width=2.,\n",
    "    wheel_base=2.78,\n",
    "    steering_ratio=14.7,\n",
    "    lookahead_road=True,\n",
    ")\n",
    "sensors_config = [\n",
    "    dict(\n",
    "        type='camera',\n",
    "        # camera params\n",
    "        name='camera_front',\n",
    "        size=(200, 320),\n",
    "        # rendering params\n",
    "        depth_mode=DepthModes.FIXED_PLANE,\n",
    "        use_lighting=False,\n",
    "    )\n",
    "]\n",
    "task_config = dict(n_agents=2,\n",
    "                    mesh_dir=\"../carpack01\",\n",
    "                    init_dist_range=[15., 30.],\n",
    "                    init_lat_noise_range=[-3., 3.],\n",
    "                    reward_fn=my_reward_fn)\n",
    "display_config = dict(road_buffer_size=1000, )\n",
    "\n",
    "ego_car_config = copy.deepcopy(car_config)\n",
    "ego_car_config['lookahead_road'] = True\n",
    "trace_root = \"../trace\"\n",
    "trace_path = [\n",
    "    \"20210726-154641_lexus_devens_center\", \n",
    "    \"20210726-155941_lexus_devens_center_reverse\", \n",
    "    \"20210726-184624_lexus_devens_center\", \n",
    "    \"20210726-184956_lexus_devens_center_reverse\", \n",
    "]\n",
    "trace_path = [os.path.join(trace_root, p) for p in trace_path]\n",
    "env = MultiAgentBase(trace_paths=trace_path,\n",
    "                        trace_config=trace_config,\n",
    "                        car_configs=[car_config] * task_config['n_agents'],\n",
    "                        sensors_configs=[sensors_config] + [[]] *\n",
    "                        (task_config['n_agents'] - 1),\n",
    "                        task_config=task_config)\n",
    "display = vista.Display(env.world, display_config=display_config)"
   ]
  },
  {
   "cell_type": "code",
   "execution_count": 85,
   "metadata": {},
   "outputs": [],
   "source": [
    "def generate_human_actions(world):\n",
    "    actions = dict()\n",
    "    for agent in world.agents:\n",
    "        if agent.id != env.ego_agent.id:\n",
    "            actions[agent.id] = np.array([0.0,0.0])\n",
    "        else:\n",
    "            # Sample a random curvature (between +/- 1/3), keep speed constant\n",
    "            curvature = np.random.uniform(-1/5, 1/5)\n",
    "            actions[agent.id] = np.array([curvature, agent.trace.f_speed(agent.timestamp)])\n",
    "    return actions"
   ]
  },
  {
   "cell_type": "code",
   "execution_count": 143,
   "metadata": {},
   "outputs": [
    {
     "name": "stdout",
     "output_type": "stream",
     "text": [
      "Ego agent id: 1d559c\n"
     ]
    }
   ],
   "source": [
    "# start env\n",
    "env.reset();\n",
    "display.reset()  # reset should be called after env reset\n",
    "print(f\"Ego agent id: {env.ego_agent.id}\")"
   ]
  },
  {
   "cell_type": "code",
   "execution_count": 152,
   "metadata": {},
   "outputs": [
    {
     "name": "stdout",
     "output_type": "stream",
     "text": [
      "<StateDynamics: [0.0, 0.0, 0.0, -0.0764628250030325, 9.924124165183352]>\n"
     ]
    },
    {
     "data": {
      "text/plain": [
       "(0.0,\n",
       " 0.0,\n",
       " 0.0,\n",
       " -0.0764628250030325,\n",
       " 9.924124165183352,\n",
       " [-0.75, 0.75],\n",
       " [0.0, 15.0],\n",
       " 2.78)"
      ]
     },
     "execution_count": 152,
     "metadata": {},
     "output_type": "execute_result"
    }
   ],
   "source": [
    "agent = [_a for _a in env.world.agents if _a.id == \"1d559c\"][0]\n",
    "print(agent.ego_dynamics)\n",
    "x = agent.ego_dynamics.x\n",
    "y = agent.ego_dynamics.y\n",
    "yaw = x = agent.ego_dynamics.yaw\n",
    "steering = agent.ego_dynamics.steering\n",
    "speed = agent.ego_dynamics.speed\n",
    "steering_bound = agent.ego_dynamics.steering_bound\n",
    "speed_bound = agent.ego_dynamics.speed_bound\n",
    "wheel_base = agent.wheel_base\n",
    "x, y, yaw, steering, speed, steering_bound, speed_bound, wheel_base"
   ]
  },
  {
   "cell_type": "code",
   "execution_count": 149,
   "metadata": {},
   "outputs": [],
   "source": [
    "steering_velocity = 0.0\n",
    "acceleration = 0.0\n",
    "# Define dynamics\n",
    "def _ode_func(t, z):\n",
    "    _x, _y, _phi, _delta, _v = z\n",
    "    u_delta = steering_velocity\n",
    "    u_a = acceleration\n",
    "    new_z = np.array([\n",
    "        -_v * np.sin(_phi),  # swap x-y axis with sign change\n",
    "        _v * np.cos(_phi),\n",
    "        _v / wheel_base * np.tan(_delta),\n",
    "        u_delta,\n",
    "        u_a\n",
    "    ])\n",
    "    return new_z"
   ]
  },
  {
   "cell_type": "code",
   "execution_count": 159,
   "metadata": {},
   "outputs": [
    {
     "name": "stderr",
     "output_type": "stream",
     "text": [
      "<>:6: SyntaxWarning: \"is\" with a literal. Did you mean \"==\"?\n",
      "<>:6: SyntaxWarning: \"is\" with a literal. Did you mean \"==\"?\n",
      "/var/folders/w0/3ttb6cs14rq8l4ggd5r1v9440000gn/T/ipykernel_47171/655399030.py:6: SyntaxWarning: \"is\" with a literal. Did you mean \"==\"?\n",
      "  while solver.status is 'running' and steps <= max_steps:\n"
     ]
    }
   ],
   "source": [
    "dt = 1/30.\n",
    "# Solve ODE\n",
    "z_0 = np.array([x, y, yaw, steering, speed])\n",
    "solver = ode_solve.RK45(_ode_func, 0., z_0, dt)\n",
    "steps = 0\n",
    "while solver.status is 'running' and steps <= max_steps:\n",
    "    solver.step()\n",
    "    steps += 1"
   ]
  },
  {
   "cell_type": "code",
   "execution_count": 168,
   "metadata": {},
   "outputs": [
    {
     "data": {
      "text/plain": [
       "array([-0.03227746,  0.99138121, -0.056446  , -0.05540264,  9.92260875])"
      ]
     },
     "execution_count": 168,
     "metadata": {},
     "output_type": "execute_result"
    }
   ],
   "source": [
    "solver.y"
   ]
  },
  {
   "cell_type": "code",
   "execution_count": 157,
   "metadata": {},
   "outputs": [],
   "source": [
    "# follow nominal trajectories for all agents\n",
    "actions = generate_human_actions(env.world)\n",
    "# step environment\n",
    "observations, rewards, dones, infos = env.step(actions)"
   ]
  },
  {
   "cell_type": "code",
   "execution_count": 158,
   "metadata": {},
   "outputs": [
    {
     "name": "stdout",
     "output_type": "stream",
     "text": [
      "<StateDynamics: [0.022558484113842155, 0.661095199040028, 0.661095199040028, -0.05540263508097742, 9.922608745999334]>\n"
     ]
    },
    {
     "data": {
      "text/plain": [
       "(-0.04984766075982372,\n",
       " 0.661095199040028,\n",
       " -0.04984766075982372,\n",
       " -0.05540263508097742,\n",
       " 9.922608745999334,\n",
       " [-0.75, 0.75],\n",
       " [0.0, 15.0],\n",
       " 2.78)"
      ]
     },
     "execution_count": 158,
     "metadata": {},
     "output_type": "execute_result"
    }
   ],
   "source": [
    "agent = [_a for _a in env.world.agents if _a.id == \"1d559c\"][0]\n",
    "print(agent.ego_dynamics)\n",
    "x = agent.ego_dynamics.x\n",
    "y = agent.ego_dynamics.y\n",
    "yaw = x = agent.ego_dynamics.yaw\n",
    "steering = agent.ego_dynamics.steering\n",
    "speed = agent.ego_dynamics.speed\n",
    "steering_bound = agent.ego_dynamics.steering_bound\n",
    "speed_bound = agent.ego_dynamics.speed_bound\n",
    "wheel_base = agent.wheel_base\n",
    "x, y, yaw, steering, speed, steering_bound, speed_bound, wheel_base"
   ]
  },
  {
   "cell_type": "code",
   "execution_count": 164,
   "metadata": {},
   "outputs": [
    {
     "data": {
      "text/plain": [
       "[]"
      ]
     },
     "execution_count": 164,
     "metadata": {},
     "output_type": "execute_result"
    }
   ],
   "source": [
    "np.gradient(-0.05540263508097742, 0.03333333333333333)"
   ]
  },
  {
   "cell_type": "code",
   "execution_count": 139,
   "metadata": {},
   "outputs": [],
   "source": [
    "import numpy as np\n",
    "from scipy.integrate import RK45\n",
    "import matplotlib.pyplot as plt\n",
    "\n",
    "# Define the function that computes the first derivative dy/dt\n",
    "def f(t, y):\n",
    "    return -2 * y\n",
    "\n",
    "# Initial conditions for y\n",
    "t0 = 0.0   # Initial time\n",
    "y0 = np.array([1.0])   # Initial value of y as a one-dimensional array\n",
    "t_end = 2.0  # End time for the integration\n",
    "dt = 1/30.\n",
    "\n",
    "# Create the RK45 solver object for y\n",
    "rk45_solver_y = RK45(fun=f, t0=t0, y0=y0, t_bound=2.0)\n",
    "\n",
    "# Lists to store the solutions\n",
    "time_points = [t0]\n",
    "solution_y = [y0[0]]\n",
    "\n",
    "steps = 0\n",
    "max_steps = 100\n",
    "# Perform the integration using the solver\n",
    "while rk45_solver_y.status == 'running' and steps <= max_steps:\n",
    "    # Proceed to the next step using the integrate method\n",
    "    rk45_solver_y.step()\n",
    "    \n",
    "    # Store the current time and solution value for y\n",
    "    time_points.append(rk45_solver_y.t)\n",
    "    solution_y.append(rk45_solver_y.y[0])\n",
    "    steps+=1\n",
    "\n",
    "# Calculate the first derivative dy/dt using the results of y\n",
    "dy_dt = np.gradient(solution_y, np.gradient(time_points))\n",
    "\n",
    "# Calculate the second derivative d^2y/dt^2 using the results of dy/dt\n",
    "second_derivative = np.gradient(dy_dt, np.gradient(time_points))"
   ]
  },
  {
   "cell_type": "code",
   "execution_count": 140,
   "metadata": {},
   "outputs": [
    {
     "data": {
      "text/plain": [
       "array([-7.24676019e-01, -1.83337742e+00,  1.77364585e+01, -9.11065192e+01,\n",
       "       -8.27341335e+01,  1.36008082e-01,  4.06148162e-02])"
      ]
     },
     "execution_count": 140,
     "metadata": {},
     "output_type": "execute_result"
    }
   ],
   "source": [
    "dy_dt"
   ]
  },
  {
   "cell_type": "code",
   "execution_count": 141,
   "metadata": {},
   "outputs": [
    {
     "data": {
      "text/plain": [
       "array([-5.71160040e+00,  5.31445000e+01,  9.61356877e+03,  8.24466927e+03,\n",
       "        8.36605860e+03, -2.78412127e+02,  6.40897117e-01])"
      ]
     },
     "execution_count": 141,
     "metadata": {},
     "output_type": "execute_result"
    }
   ],
   "source": [
    "second_derivative"
   ]
  },
  {
   "cell_type": "code",
   "execution_count": 142,
   "metadata": {},
   "outputs": [
    {
     "data": {
      "image/png": "[encoded data removed]",
      "text/plain": [
       "<Figure size 640x480 with 1 Axes>"
      ]
     },
     "metadata": {},
     "output_type": "display_data"
    }
   ],
   "source": [
    "# Plot the results\n",
    "exact_solution_y = np.exp(-2 * np.array(time_points))\n",
    "plt.plot(time_points, solution_y, label='y(t)')\n",
    "plt.plot(time_points, exact_solution_y, label='Exact Solution (e^(-2t))', linestyle='dashed')\n",
    "plt.plot(time_points, second_derivative, label='d^2y/dt^2')\n",
    "plt.xlabel('Time (t)')\n",
    "plt.ylabel('y(t) / d^2y/dt^2')\n",
    "plt.title('Numerical Solution of dy/dt = -2 * y and its Second Derivative')\n",
    "plt.legend()\n",
    "plt.grid(True)\n",
    "plt.show()"
   ]
  },
  {
   "cell_type": "code",
   "execution_count": 123,
   "metadata": {},
   "outputs": [
    {
     "name": "stderr",
     "output_type": "stream",
     "text": [
      "<>:8: SyntaxWarning: \"is\" with a literal. Did you mean \"==\"?\n",
      "<>:8: SyntaxWarning: \"is\" with a literal. Did you mean \"==\"?\n",
      "/var/folders/w0/3ttb6cs14rq8l4ggd5r1v9440000gn/T/ipykernel_47171/2860661188.py:8: SyntaxWarning: \"is\" with a literal. Did you mean \"==\"?\n",
      "  while solver.status is 'running' and steps <= max_steps:\n"
     ]
    }
   ],
   "source": [
    "import scipy.integrate as ode_solve\n",
    "max_steps = 100\n",
    "# Solve ODE\n",
    "dt = 1/3\n",
    "z_0 = np.array([yaw, speed, wheel_base])\n",
    "solver = ode_solve.RK45(rot_function, 0., z_0, dt)\n",
    "steps = 0\n",
    "while solver.status is 'running' and steps <= max_steps:\n",
    "    solver.step()\n",
    "    steps += 1"
   ]
  },
  {
   "cell_type": "code",
   "execution_count": 124,
   "metadata": {},
   "outputs": [
    {
     "data": {
      "text/plain": [
       "array([ 0.       , 12.1099706,  2.78     ])"
      ]
     },
     "execution_count": 124,
     "metadata": {},
     "output_type": "execute_result"
    }
   ],
   "source": [
    "solver.y"
   ]
  },
  {
   "cell_type": "code",
   "execution_count": 149,
   "metadata": {},
   "outputs": [
    {
     "name": "stdout",
     "output_type": "stream",
     "text": [
      "{'5ff121': 1.0, '4be50c': 0.523}\n",
      "{'5ff121': 0.9998, '4be50c': 0.523}\n",
      "{'5ff121': 0.9993, '4be50c': 0.523}\n",
      "{'5ff121': 0.9988, '4be50c': 0.523}\n",
      "{'5ff121': 0.998, '4be50c': 0.523}\n",
      "{'5ff121': 0.9971, '4be50c': 0.523}\n",
      "{'5ff121': 0.9958, '4be50c': 0.523}\n",
      "{'5ff121': 0.9944, '4be50c': 0.523}\n",
      "{'5ff121': 0.9931, '4be50c': 0.523}\n",
      "{'5ff121': 0.9909, '4be50c': 0.523}\n",
      "{'5ff121': 0.9863, '4be50c': 0.523}\n",
      "{'5ff121': 0.979, '4be50c': 0.523}\n",
      "{'5ff121': 0.9689, '4be50c': 0.523}\n",
      "{'5ff121': 0.9566, '4be50c': 0.523}\n",
      "{'5ff121': 0.9419, '4be50c': 0.523}\n",
      "{'5ff121': 0.9252, '4be50c': 0.523}\n",
      "{'5ff121': 0.9079, '4be50c': 0.523}\n",
      "{'5ff121': 0.8923, '4be50c': 0.523}\n",
      "{'5ff121': 0.8812, '4be50c': 0.523}\n",
      "{'5ff121': 0.8682, '4be50c': 0.523}\n",
      "{'5ff121': 0.847, '4be50c': 0.523}\n",
      "{'5ff121': 0.8194, '4be50c': 0.523}\n",
      "{'5ff121': 0.7944, '4be50c': 0.523}\n",
      "{'5ff121': 0.7715, '4be50c': 0.523}\n",
      "{'5ff121': 0.7431, '4be50c': 0.523}\n",
      "{'5ff121': 0.7089, '4be50c': 0.523}\n",
      "{'5ff121': 0.6746, '4be50c': 0.523}\n",
      "{'5ff121': 0.6425, '4be50c': 0.523}\n",
      "{'5ff121': 0.6046, '4be50c': 0.523}\n",
      "{'5ff121': 0.5593, '4be50c': 0.523}\n",
      "{'5ff121': 0.5048, '4be50c': 0.523}\n",
      "{'5ff121': 0.4427, '4be50c': 0.523}\n",
      "{'5ff121': 0.3758, '4be50c': 0.523}\n",
      "{'5ff121': 0.299, '4be50c': 0.523}\n"
     ]
    }
   ],
   "source": [
    "done = False\n",
    "while not done:\n",
    "    # follow nominal trajectories for all agents\n",
    "    actions = generate_human_actions(env.world)\n",
    "\n",
    "    # step environment\n",
    "    observations, rewards, dones, infos = env.step(actions)\n",
    "    print(rewards)\n",
    "\n",
    "    img = display.render()\n",
    "    cv2.imshow(\"test\", img[:, :, ::-1])\n",
    "    key = cv2.waitKey(20)\n",
    "    plt.pause(.05)\n",
    "    if key == ord('q'):\n",
    "        break"
   ]
  },
  {
   "cell_type": "code",
   "execution_count": 2,
   "metadata": {},
   "outputs": [],
   "source": [
    "# Define dynamics\n",
    "def _ode_func(t, z):\n",
    "    _x, _y, _phi, _delta, _v = z\n",
    "    u_delta = steering_velocity\n",
    "    u_a = acceleration\n",
    "    new_z = np.array([\n",
    "        -_v * np.sin(_phi),  # swap x-y axis with sign change\n",
    "        _v * np.cos(_phi),\n",
    "        _v / self._wheel_base * np.tan(_delta),\n",
    "        u_delta,\n",
    "        u_a\n",
    "    ])\n",
    "    return new_z"
   ]
  },
  {
   "cell_type": "code",
   "execution_count": null,
   "metadata": {},
   "outputs": [],
   "source": [
    "# Solve ODE\n",
    "z_0 = np.array(\n",
    "    [self._x, self._y, self._yaw, self._steering, self._speed])\n",
    "solver = ode_solve.RK45(_ode_func, 0., z_0, dt)\n",
    "steps = 0"
   ]
  }
 ],
 "metadata": {
  "kernelspec": {
   "display_name": "vista",
   "language": "python",
   "name": "python3"
  },
  "language_info": {
   "codemirror_mode": {
    "name": "ipython",
    "version": 3
   },
   "file_extension": ".py",
   "mimetype": "text/x-python",
   "name": "python",
   "nbconvert_exporter": "python",
   "pygments_lexer": "ipython3",
   "version": "3.8.16"
  },
  "orig_nbformat": 4
 },
 "nbformat": 4,
 "nbformat_minor": 2
}
