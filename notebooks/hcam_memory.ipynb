{
 "cells": [
  {
   "cell_type": "code",
   "execution_count": 1,
   "metadata": {},
   "outputs": [],
   "source": [
    "import torch\n",
    "from htm_pytorch import HTMBlock\n",
    "\n",
    "block = HTMBlock(\n",
    "    dim = 512,\n",
    "    topk_mems = 8,\n",
    "    mem_chunk_size = 32,\n",
    "    heads=8\n",
    ")\n",
    "\n",
    "queries = torch.randn(1, 128, 512)\n",
    "memories = torch.randn(1, 20000, 512)\n",
    "mask = torch.ones(1, 20000).bool()\n",
    "\n",
    "out = block(queries, memories, mask = mask) # (1, 128, 512)"
   ]
  },
  {
   "cell_type": "code",
   "execution_count": null,
   "metadata": {},
   "outputs": [],
   "source": []
  }
 ],
 "metadata": {
  "kernelspec": {
   "display_name": "vista",
   "language": "python",
   "name": "python3"
  },
  "language_info": {
   "codemirror_mode": {
    "name": "ipython",
    "version": 3
   },
   "file_extension": ".py",
   "mimetype": "text/x-python",
   "name": "python",
   "nbconvert_exporter": "python",
   "pygments_lexer": "ipython3",
   "version": "3.8.16"
  },
  "orig_nbformat": 4
 },
 "nbformat": 4,
 "nbformat_minor": 2
}
