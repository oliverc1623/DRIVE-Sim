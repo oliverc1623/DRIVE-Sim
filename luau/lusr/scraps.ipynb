{
 "cells": [
  {
   "cell_type": "code",
   "execution_count": 1,
   "id": "d9b31138-27cc-4cd0-8cc8-a30dc4bb149e",
   "metadata": {},
   "outputs": [
    {
     "name": "stdout",
     "output_type": "stream",
     "text": [
      "pygame 2.5.2 (SDL 2.28.2, Python 3.11.5)\n",
      "Hello from the pygame community. https://www.pygame.org/contribute.html\n"
     ]
    }
   ],
   "source": [
    "import gymnasium as gym\n",
    "import minigrid\n",
    "from minigrid.wrappers import ImgObsWrapper, RGBImgPartialObsWrapper, RGBImgObsWrapper, ReseedWrapper\n",
    "from minigrid.core.constants import COLOR_NAMES\n",
    "from minigrid.core.grid import Grid\n",
    "from minigrid.core.mission import MissionSpace\n",
    "from minigrid.core.world_object import Door, Goal, Key, Wall\n",
    "from minigrid.manual_control import ManualControl\n",
    "from minigrid.minigrid_env import MiniGridEnv\n",
    "import seaborn as sns\n",
    "# sns.set(rc={'figure.figsize':(11.7,8.27)})\n",
    "import pandas as pd\n",
    "from IPython.display import Video\n",
    "import matplotlib.pyplot as plt\n",
    "import numpy as np\n",
    "import cv2\n",
    "import warnings\n",
    "warnings.filterwarnings(\"ignore\")\n",
    "\n",
    "import torch\n",
    "import torch.nn as nn\n",
    "import torch.nn.functional as F\n",
    "from torch.distributions import Categorical, Beta\n",
    "from torch.autograd import Function\n",
    "from utils import reparameterize\n",
    "\n",
    "device = \"cuda:0\""
   ]
  },
  {
   "cell_type": "code",
   "execution_count": 2,
   "id": "13fb8f24-bd12-489a-b198-69fb41682abf",
   "metadata": {},
   "outputs": [],
   "source": [
    "arr1 = np.zeros((64, 64, 3))\n",
    "arr2 = np.zeros((64, 64, 3))\n",
    "np.savez(\"test.npz\", obs=[arr1, arr2])"
   ]
  },
  {
   "cell_type": "code",
   "execution_count": 4,
   "id": "b10c9388-a4bd-41ee-92cc-7829e5b2c254",
   "metadata": {},
   "outputs": [
    {
     "data": {
      "text/plain": [
       "(2, 64, 64, 3)"
      ]
     },
     "execution_count": 4,
     "metadata": {},
     "output_type": "execute_result"
    }
   ],
   "source": [
    "test = np.load(\"test.npz\")\n",
    "list(test.values())[0].shape"
   ]
  },
  {
   "cell_type": "code",
   "execution_count": 3,
   "id": "09bf47f1-f155-4972-a389-ec452cf18876",
   "metadata": {},
   "outputs": [],
   "source": [
    "# Models for carracing games\n",
    "class Encoder(nn.Module):\n",
    "    def __init__(self, class_latent_size = 8, content_latent_size = 32, input_channel = 3, flatten_size = 1024):\n",
    "        super(Encoder, self).__init__()\n",
    "        self.class_latent_size = class_latent_size\n",
    "        self.content_latent_size = content_latent_size\n",
    "        self.flatten_size = flatten_size\n",
    "\n",
    "        self.main = nn.Sequential(\n",
    "            nn.Conv2d(input_channel, 32, 4, stride=2), nn.ReLU(),\n",
    "            nn.Conv2d(32, 64, 4, stride=2), nn.ReLU(),\n",
    "            nn.Conv2d(64, 128, 4, stride=2), nn.ReLU(),\n",
    "            nn.Conv2d(128, 256, 4, stride=2), nn.ReLU()\n",
    "        )\n",
    "\n",
    "        self.linear_mu = nn.Linear(flatten_size, content_latent_size)\n",
    "        self.linear_logsigma = nn.Linear(flatten_size, content_latent_size)\n",
    "        self.linear_classcode = nn.Linear(flatten_size, class_latent_size) \n",
    "\n",
    "    def forward(self, x):\n",
    "        x = self.main(x)\n",
    "        x = x.view(x.size(0), -1)\n",
    "        mu = self.linear_mu(x)\n",
    "        logsigma = self.linear_logsigma(x)\n",
    "        classcode = self.linear_classcode(x)\n",
    "\n",
    "        return mu, logsigma, classcode\n",
    "\n",
    "    def get_feature(self, x):\n",
    "        mu, logsigma, classcode = self.forward(x)\n",
    "        return mu\n",
    "\n",
    "\n",
    "class Decoder(nn.Module):\n",
    "    def __init__(self, latent_size = 32, output_channel = 3, flatten_size=1024):\n",
    "        super(Decoder, self).__init__()\n",
    "\n",
    "        self.fc = nn.Linear(latent_size, flatten_size)\n",
    "\n",
    "        self.main = nn.Sequential(\n",
    "            nn.ConvTranspose2d(flatten_size, 128, 5, stride=2), nn.ReLU(),\n",
    "            nn.ConvTranspose2d(128, 64, 5, stride=2), nn.ReLU(),\n",
    "            nn.ConvTranspose2d(64, 32, 6, stride=2), nn.ReLU(),\n",
    "            nn.ConvTranspose2d(32, 3, 6, stride=2), nn.Sigmoid()\n",
    "        )\n",
    "\n",
    "    def forward(self, x):\n",
    "        x = self.fc(x)\n",
    "        x = x.unsqueeze(-1).unsqueeze(-1)\n",
    "        x = self.main(x)\n",
    "        return x\n",
    "\n",
    "\n",
    "# DisentangledVAE here is actually Cycle-Consistent VAE, disentangled stands for the disentanglement between domain-general and domain-specifc embeddings \n",
    "class DisentangledVAE(nn.Module):\n",
    "    def __init__(self, class_latent_size = 8, content_latent_size = 32, img_channel = 3, flatten_size = 1024):\n",
    "        super(DisentangledVAE, self).__init__()\n",
    "        self.encoder = Encoder(class_latent_size, content_latent_size, img_channel, flatten_size)\n",
    "        self.decoder = Decoder(class_latent_size + content_latent_size, img_channel, flatten_size)\n",
    "\n",
    "    def forward(self, x):\n",
    "        mu, logsigma, classcode = self.encoder(x)\n",
    "        contentcode = reparameterize(mu, logsigma)\n",
    "        latentcode = torch.cat([contentcode, classcode], dim=1)\n",
    "\n",
    "        recon_x = self.decoder(latentcode)\n",
    "\n",
    "        return mu, logsigma, classcode, recon_x\n",
    "\n",
    "\n",
    "def preprocess(x):\n",
    "    # x = cv2.resize(x, (40, 40))\n",
    "    x = torch.from_numpy(x).float() / 255.0\n",
    "    if len(x.shape) == 3:\n",
    "        x = x.permute(2, 0, 1).unsqueeze(0).to(device)\n",
    "    else:\n",
    "        x = x.permute(0, 3, 1, 2).to(device)\n",
    "    return x"
   ]
  },
  {
   "cell_type": "code",
   "execution_count": 4,
   "id": "c927c3f4-60f2-4a84-87a9-313c29eeb1d7",
   "metadata": {},
   "outputs": [],
   "source": [
    "encoder = Encoder().to(device)\n",
    "cycleVAE = DisentangledVAE().to(device)"
   ]
  },
  {
   "cell_type": "code",
   "execution_count": 5,
   "id": "03cd18a6-a29b-4014-a1d4-2843aaecfd92",
   "metadata": {},
   "outputs": [
    {
     "ename": "NameError",
     "evalue": "name 'tensor_obs' is not defined",
     "output_type": "error",
     "traceback": [
      "\u001b[0;31m---------------------------------------------------------------------------\u001b[0m",
      "\u001b[0;31mNameError\u001b[0m                                 Traceback (most recent call last)",
      "Cell \u001b[0;32mIn[5], line 1\u001b[0m\n\u001b[0;32m----> 1\u001b[0m cycleVAE(\u001b[43mtensor_obs\u001b[49m)\n",
      "\u001b[0;31mNameError\u001b[0m: name 'tensor_obs' is not defined"
     ]
    }
   ],
   "source": [
    "cycleVAE(tensor_obs)"
   ]
  },
  {
   "cell_type": "code",
   "execution_count": 10,
   "id": "c13d5090-8681-4a56-b068-3ba2a2641ee8",
   "metadata": {},
   "outputs": [
    {
     "data": {
      "text/plain": [
       "['obs']"
      ]
     },
     "execution_count": 10,
     "metadata": {},
     "output_type": "execute_result"
    }
   ],
   "source": [
    "car1_0 = np.load('data/carracing_data_full/car1/1.npz')\n",
    "d = list(car1_0.values())[0]\n",
    "list(car1_0.keys())"
   ]
  },
  {
   "cell_type": "code",
   "execution_count": 95,
   "id": "b26dc67b-2a27-4764-b8eb-d0ae4dc0811b",
   "metadata": {},
   "outputs": [],
   "source": [
    "car2_1 = np.load('data/carracing_data_full/car2/1.npz')\n",
    "d1 = list(car2_1.values())[0]"
   ]
  },
  {
   "cell_type": "code",
   "execution_count": 96,
   "id": "0d90cee5-bac4-4a45-83a7-06526ae163c3",
   "metadata": {},
   "outputs": [
    {
     "data": {
      "text/plain": [
       "<matplotlib.image.AxesImage at 0x7f16b1a68c50>"
      ]
     },
     "execution_count": 96,
     "metadata": {},
     "output_type": "execute_result"
    },
    {
     "data": {
      "image/png": "[encoded data removed]",
      "text/plain": [
       "<Figure size 640x480 with 1 Axes>"
      ]
     },
     "metadata": {},
     "output_type": "display_data"
    }
   ],
   "source": [
    "plt.imshow(d1[210])"
   ]
  },
  {
   "cell_type": "code",
   "execution_count": null,
   "id": "94edbb03-9237-4a62-8498-8a228763d924",
   "metadata": {},
   "outputs": [],
   "source": [
    "car1_0 = np.load('data/carracing_data_full/car1/0.npz')\n",
    "print(len(list(car1_0.values())[0]))"
   ]
  },
  {
   "cell_type": "code",
   "execution_count": null,
   "id": "225d4fab-cd95-4a84-9528-7465f2ed7d11",
   "metadata": {},
   "outputs": [],
   "source": [
    "car1_0 = np.load('data/carracing_data_full/car1/0.npz')\n",
    "print(len(list(car1_0.values())[0]))"
   ]
  },
  {
   "cell_type": "code",
   "execution_count": null,
   "id": "f82bf9d5-c4b0-4343-b666-1786aef0faef",
   "metadata": {},
   "outputs": [],
   "source": [
    "car1_0 = np.load('data/carracing_data_full/car1/0.npz')\n",
    "print(len(list(car1_0.values())[0]))"
   ]
  },
  {
   "cell_type": "code",
   "execution_count": null,
   "id": "203ddf3f-f273-4717-9c44-d055890d46b0",
   "metadata": {},
   "outputs": [],
   "source": [
    "car1_0 = np.load('data/carracing_data_full/car1/0.npz')\n",
    "print(len(list(car1_0.values())[0]))"
   ]
  },
  {
   "cell_type": "markdown",
   "id": "c4f0a66f-fa4e-4f27-bcbf-b3eb4c40d29a",
   "metadata": {},
   "source": [
    "# Make 8x8 Minigrid Data"
   ]
  },
  {
   "cell_type": "code",
   "execution_count": 6,
   "id": "0ccc445d-333f-4017-b39d-1de8e560b8f5",
   "metadata": {},
   "outputs": [
    {
     "name": "stdout",
     "output_type": "stream",
     "text": [
      "(64, 64, 3)\n"
     ]
    },
    {
     "data": {
      "image/png": "[encoded data removed]",
      "text/plain": [
       "<Figure size 640x480 with 1 Axes>"
      ]
     },
     "metadata": {},
     "output_type": "display_data"
    }
   ],
   "source": [
    "env = gym.make('MiniGrid-Empty-8x8-v0', render_mode=\"rgb_array\")\n",
    "env = RGBImgObsWrapper(env)\n",
    "obs, info = env.reset() # This now produces an RGB tensor only\n",
    "obs = obs[\"image\"]\n",
    "plt.imshow(obs)\n",
    "print(obs.shape)"
   ]
  },
  {
   "cell_type": "code",
   "execution_count": 7,
   "id": "e45d2add-d9ee-406e-9e2d-ffe32610e67d",
   "metadata": {},
   "outputs": [],
   "source": [
    "def to_grayscale(image):\n",
    "    # Convert to grayscale using the luminosity method\n",
    "    return np.dot(image[...,:3], [0.2989, 0.5870, 0.1140])\n",
    "\n",
    "def increase_contrast(image, factor=1.5):\n",
    "    # Increase contrast by scaling the difference from the mean\n",
    "    mean = np.mean(image)\n",
    "    return np.clip((1 + factor) * (image - mean) + mean, 0, 255)\n",
    "\n",
    "def decrease_brightness(image, factor=50):\n",
    "    # Decrease brightness\n",
    "    return np.clip(image - factor, 0, 255)\n",
    "\n",
    "def color_shift_red(image, factor=50):\n",
    "    # Shift color towards red\n",
    "    red_channel = image[:,:,0] + factor\n",
    "    red_channel[red_channel > 255] = 255\n",
    "    image = np.dstack((red_channel, image[:,:,1], image[:,:,2]))\n",
    "    image[48:56, 48:56, 0] = 222\n",
    "    image[48:56, 48:56, 1] = 255\n",
    "    image[48:56, 48:56, 2] = 239\n",
    "    return image\n",
    "\n",
    "def invert_colors(image):\n",
    "    # Invert image colors\n",
    "    return 255 - image\n",
    "\n",
    "def color_shift_blue(image, factor=50):\n",
    "    # Shift color towards blue\n",
    "    blue_channel = image[:,:,2] + factor\n",
    "    blue_channel[blue_channel > 255] = 255\n",
    "    return np.dstack((image[:,:,0], image[:,:,1], blue_channel))\n",
    "\n",
    "def color_shift_green(image, factor=50):\n",
    "    # Shift color towards green\n",
    "    green_channel = image[:,:,1] + factor\n",
    "    green_channel[green_channel > 255] = 255\n",
    "    image = np.dstack((image[:,:,0], green_channel, image[:,:,2]))\n",
    "    image[48:56, 48:56, 0] = 0\n",
    "    image[48:56, 48:56, 1] = 0\n",
    "    image[48:56, 48:56, 2] = 255\n",
    "    return image\n",
    "\n",
    "def purple_tint(image, factor=50):\n",
    "    # Apply a purple tint (red + blue)\n",
    "    red_channel = image[:,:,0] + factor\n",
    "    red_channel[red_channel > 255] = 255\n",
    "    blue_channel = image[:,:,2] + factor\n",
    "    blue_channel[blue_channel > 255] = 255\n",
    "    image = np.dstack((red_channel, image[:,:,1], blue_channel))\n",
    "    image[48:56, 48:56, 0] = 255\n",
    "    image[48:56, 48:56, 1] = 255\n",
    "    image[48:56, 48:56, 2] = 153\n",
    "    return image\n",
    "\n",
    "def cyan_tint(image, factor=50):\n",
    "    # Apply a cyan tint (green + blue)\n",
    "    green_channel = image[:,:,1] + factor\n",
    "    green_channel[green_channel > 255] = 255\n",
    "    blue_channel = image[:,:,2] + factor\n",
    "    blue_channel[blue_channel > 255] = 255\n",
    "    image = np.dstack((image[:,:,0], green_channel, blue_channel))\n",
    "    image[48:56, 48:56, 0] = 255\n",
    "    image[48:56, 48:56, 1] = 132\n",
    "    image[48:56, 48:56, 2] = 0\n",
    "    return image\n",
    "\n",
    "def yellow_tint(image, factor=50):\n",
    "    # Apply a yellow tint (red + green)\n",
    "    red_channel = image[:,:,0] + factor\n",
    "    red_channel[red_channel > 255] = 255\n",
    "    green_channel = image[:,:,1] + factor\n",
    "    green_channel[green_channel > 255] = 255\n",
    "    image = np.dstack((red_channel, green_channel, image[:,:,2]))\n",
    "    image[48:56, 48:56, 0] = 255\n",
    "    image[48:56, 48:56, 1] = 201\n",
    "    image[48:56, 48:56, 2] = 248\n",
    "    return image\n",
    "\n",
    "# Assuming 'image' is your numpy array of shape (64, 64, 3)\n",
    "image = obs\n",
    "\n",
    "# Apply transformations\n",
    "grayscale_image = to_grayscale(image)\n",
    "contrast_image = increase_contrast(image).astype(np.uint8)\n",
    "brightness_image = decrease_brightness(image)\n",
    "red_shift_image = color_shift_red(image)\n",
    "inverted_image = invert_colors(image)\n",
    "blue_shift_image = color_shift_blue(image)\n",
    "green_shift_image = color_shift_green(image)\n",
    "pruple_image = purple_tint(image)\n",
    "cyan_image = cyan_tint(image)\n",
    "yellow_image = yellow_tint(image)\n",
    "\n",
    "# Make sure to convert the grayscale image back to 3 channels if needed for consistency\n",
    "grayscale_image_3ch = np.stack((grayscale_image,)*3, axis=-1).astype(np.uint8)\n",
    "\n",
    "concatenated_images = np.concatenate(\n",
    "    [obs, \n",
    "    grayscale_image_3ch, \n",
    "    contrast_image, \n",
    "    brightness_image, \n",
    "    red_shift_image, \n",
    "    inverted_image, \n",
    "    blue_shift_image,\n",
    "    green_shift_image, \n",
    "    pruple_image,\n",
    "    cyan_image,\n",
    "    yellow_image], 1)"
   ]
  },
  {
   "cell_type": "code",
   "execution_count": 8,
   "id": "a733f210-c84f-4103-ad6f-9770640fa1b8",
   "metadata": {},
   "outputs": [
    {
     "data": {
      "text/plain": [
       "<matplotlib.image.AxesImage at 0x7fd3ae772850>"
      ]
     },
     "execution_count": 8,
     "metadata": {},
     "output_type": "execute_result"
    },
    {
     "data": {
      "image/png": "[encoded data removed]",
      "text/plain": [
       "<Figure size 640x480 with 1 Axes>"
      ]
     },
     "metadata": {},
     "output_type": "display_data"
    }
   ],
   "source": [
    "plt.imshow(concatenated_images)"
   ]
  },
  {
   "cell_type": "code",
   "execution_count": 5,
   "id": "d07547e8-390f-411e-bd55-2e9e6e1c039e",
   "metadata": {},
   "outputs": [],
   "source": [
    "def apply_contrasting_region_color(image, region_coords, color_shift_func, region_color_shift_func, *args, **kwargs):\n",
    "    \"\"\"\n",
    "    Applies a color shift to the whole image and a contrasting color shift to a specified region.\n",
    "    \n",
    "    :param image: The original image array.\n",
    "    :param region_coords: A tuple of slice objects defining the region (e.g., (slice(48,56), slice(48,56))).\n",
    "    :param color_shift_func: The color shift function to apply to the whole image.\n",
    "    :param region_color_shift_func: The color shift function to apply specifically to the region for contrast.\n",
    "    :return: The modified image.\n",
    "    \"\"\"\n",
    "    # Copy the image to avoid modifying the original\n",
    "    modified_image = image.copy()\n",
    "    \n",
    "    # Apply the color shift to the whole image\n",
    "    modified_image = color_shift_func(modified_image, *args, **kwargs)\n",
    "    \n",
    "    # Extract the region\n",
    "    region = modified_image[region_coords]\n",
    "    \n",
    "    # Apply a contrasting color shift to the region\n",
    "    contrasting_region = region_color_shift_func(region, *args, **kwargs)\n",
    "    \n",
    "    # Place the contrasting region back into the image\n",
    "    modified_image[region_coords] = contrasting_region\n",
    "    \n",
    "    return modified_image\n",
    "\n",
    "# Define contrasting color shift functions for the region\n",
    "def contrast_color_shift_blue(region, factor=50):\n",
    "    \"\"\"Shift the specified region's color towards blue for contrast.\"\"\"\n",
    "    region[..., 2] = np.clip(region[..., 2] + factor, 0, 255)  # Increase blue channel\n",
    "    return region\n",
    "\n",
    "# Example usage: Apply a red shift to the image and a blue shift to the region\n",
    "region_coords = (slice(48,56), slice(48,56))  # The specified region\n",
    "image_with_contrasting_region = apply_contrasting_region_color(\n",
    "    image, region_coords, color_shift_red, contrast_color_shift_blue, factor=50)\n",
    "\n",
    "# This will make the specified region stand out with a blue tint against a red-shifted image.\n"
   ]
  },
  {
   "cell_type": "code",
   "execution_count": 6,
   "id": "f78b2c85-13e6-45e9-9212-446165a42f7d",
   "metadata": {},
   "outputs": [
    {
     "data": {
      "text/plain": [
       "<matplotlib.image.AxesImage at 0x7f9113487110>"
      ]
     },
     "execution_count": 6,
     "metadata": {},
     "output_type": "execute_result"
    },
    {
     "data": {
      "image/png": "[encoded data removed]",
      "text/plain": [
       "<Figure size 640x480 with 1 Axes>"
      ]
     },
     "metadata": {},
     "output_type": "display_data"
    }
   ],
   "source": [
    "plt.imshow(image_with_contrasting_region)"
   ]
  },
  {
   "cell_type": "markdown",
   "id": "b5fd20f8-ce95-4413-8dc5-648247176ef3",
   "metadata": {},
   "source": [
    "## Data Generation"
   ]
  },
  {
   "cell_type": "code",
   "execution_count": 6,
   "id": "065dc471-f722-474f-a272-c492c234c279",
   "metadata": {},
   "outputs": [],
   "source": [
    "from tqdm import tqdm\n",
    "from collections import deque\n",
    "encoder = Encoder().to(device)"
   ]
  },
  {
   "cell_type": "markdown",
   "id": "eac44723-6dec-43dd-8af1-b809b71ed7e1",
   "metadata": {},
   "source": [
    "### Original Domain"
   ]
  },
  {
   "cell_type": "code",
   "execution_count": 11,
   "id": "0f3a6886-f3ea-4b38-8059-3c0cea2ee0ee",
   "metadata": {},
   "outputs": [
    {
     "data": {
      "image/png": "[encoded data removed]",
      "text/plain": [
       "<Figure size 640x480 with 1 Axes>"
      ]
     },
     "metadata": {},
     "output_type": "display_data"
    },
    {
     "data": {
      "image/png": "[encoded data removed]",
      "text/plain": [
       "<Figure size 640x480 with 1 Axes>"
      ]
     },
     "metadata": {},
     "output_type": "display_data"
    },
    {
     "data": {
      "image/png": "[encoded data removed]",
      "text/plain": [
       "<Figure size 640x480 with 1 Axes>"
      ]
     },
     "metadata": {},
     "output_type": "display_data"
    },
    {
     "data": {
      "image/png": "[encoded data removed]",
      "text/plain": [
       "<Figure size 640x480 with 1 Axes>"
      ]
     },
     "metadata": {},
     "output_type": "display_data"
    },
    {
     "data": {
      "image/png": "[encoded data removed]",
      "text/plain": [
       "<Figure size 640x480 with 1 Axes>"
      ]
     },
     "metadata": {},
     "output_type": "display_data"
    },
    {
     "data": {
      "image/png": "[encoded data removed]",
      "text/plain": [
       "<Figure size 640x480 with 1 Axes>"
      ]
     },
     "metadata": {},
     "output_type": "display_data"
    },
    {
     "data": {
      "image/png": "[encoded data removed]",
      "text/plain": [
       "<Figure size 640x480 with 1 Axes>"
      ]
     },
     "metadata": {},
     "output_type": "display_data"
    },
    {
     "data": {
      "image/png": "[encoded data removed]",
      "text/plain": [
       "<Figure size 640x480 with 1 Axes>"
      ]
     },
     "metadata": {},
     "output_type": "display_data"
    },
    {
     "data": {
      "image/png": "[encoded data removed]",
      "text/plain": [
       "<Figure size 640x480 with 1 Axes>"
      ]
     },
     "metadata": {},
     "output_type": "display_data"
    },
    {
     "data": {
      "image/png": "[encoded data removed]",
      "text/plain": [
       "<Figure size 640x480 with 1 Axes>"
      ]
     },
     "metadata": {},
     "output_type": "display_data"
    },
    {
     "data": {
      "image/png": "[encoded data removed]",
      "text/plain": [
       "<Figure size 640x480 with 1 Axes>"
      ]
     },
     "metadata": {},
     "output_type": "display_data"
    },
    {
     "data": {
      "image/png": "[encoded data removed]",
      "text/plain": [
       "<Figure size 640x480 with 1 Axes>"
      ]
     },
     "metadata": {},
     "output_type": "display_data"
    },
    {
     "data": {
      "image/png": "[encoded data removed]",
      "text/plain": [
       "<Figure size 640x480 with 1 Axes>"
      ]
     },
     "metadata": {},
     "output_type": "display_data"
    },
    {
     "ename": "KeyboardInterrupt",
     "evalue": "",
     "output_type": "error",
     "traceback": [
      "\u001b[0;31m---------------------------------------------------------------------------\u001b[0m",
      "\u001b[0;31mAttributeError\u001b[0m                            Traceback (most recent call last)",
      "File \u001b[0;32m/opt/conda/lib/python3.11/site-packages/PIL/ImageFile.py:515\u001b[0m, in \u001b[0;36m_save\u001b[0;34m(im, fp, tile, bufsize)\u001b[0m\n\u001b[1;32m    514\u001b[0m \u001b[38;5;28;01mtry\u001b[39;00m:\n\u001b[0;32m--> 515\u001b[0m     fh \u001b[38;5;241m=\u001b[39m \u001b[43mfp\u001b[49m\u001b[38;5;241;43m.\u001b[39;49m\u001b[43mfileno\u001b[49m()\n\u001b[1;32m    516\u001b[0m     fp\u001b[38;5;241m.\u001b[39mflush()\n",
      "\u001b[0;31mAttributeError\u001b[0m: '_idat' object has no attribute 'fileno'",
      "\nDuring handling of the above exception, another exception occurred:\n",
      "\u001b[0;31mKeyboardInterrupt\u001b[0m                         Traceback (most recent call last)",
      "Cell \u001b[0;32mIn[11], line 26\u001b[0m\n\u001b[1;32m     24\u001b[0m     stacked_images \u001b[38;5;241m=\u001b[39m np\u001b[38;5;241m.\u001b[39mconcatenate(image_queue, axis\u001b[38;5;241m=\u001b[39m\u001b[38;5;241m1\u001b[39m)\u001b[38;5;241m.\u001b[39mastype(np\u001b[38;5;241m.\u001b[39muint8)\n\u001b[1;32m     25\u001b[0m     plt\u001b[38;5;241m.\u001b[39mimshow(stacked_images)\n\u001b[0;32m---> 26\u001b[0m     \u001b[43mplt\u001b[49m\u001b[38;5;241;43m.\u001b[39;49m\u001b[43mshow\u001b[49m\u001b[43m(\u001b[49m\u001b[43m)\u001b[49m\n\u001b[1;32m     27\u001b[0m     \u001b[38;5;66;03m# data_array.append(stacked_images)\u001b[39;00m\n\u001b[1;32m     29\u001b[0m \u001b[38;5;28;01mif\u001b[39;00m done:\n",
      "File \u001b[0;32m/opt/conda/lib/python3.11/site-packages/matplotlib/pyplot.py:446\u001b[0m, in \u001b[0;36mshow\u001b[0;34m(*args, **kwargs)\u001b[0m\n\u001b[1;32m    402\u001b[0m \u001b[38;5;250m\u001b[39m\u001b[38;5;124;03m\"\"\"\u001b[39;00m\n\u001b[1;32m    403\u001b[0m \u001b[38;5;124;03mDisplay all open figures.\u001b[39;00m\n\u001b[1;32m    404\u001b[0m \n\u001b[0;32m   (...)\u001b[0m\n\u001b[1;32m    443\u001b[0m \u001b[38;5;124;03mexplicitly there.\u001b[39;00m\n\u001b[1;32m    444\u001b[0m \u001b[38;5;124;03m\"\"\"\u001b[39;00m\n\u001b[1;32m    445\u001b[0m _warn_if_gui_out_of_main_thread()\n\u001b[0;32m--> 446\u001b[0m \u001b[38;5;28;01mreturn\u001b[39;00m \u001b[43m_get_backend_mod\u001b[49m\u001b[43m(\u001b[49m\u001b[43m)\u001b[49m\u001b[38;5;241;43m.\u001b[39;49m\u001b[43mshow\u001b[49m\u001b[43m(\u001b[49m\u001b[38;5;241;43m*\u001b[39;49m\u001b[43margs\u001b[49m\u001b[43m,\u001b[49m\u001b[43m \u001b[49m\u001b[38;5;241;43m*\u001b[39;49m\u001b[38;5;241;43m*\u001b[39;49m\u001b[43mkwargs\u001b[49m\u001b[43m)\u001b[49m\n",
      "File \u001b[0;32m/opt/conda/lib/python3.11/site-packages/matplotlib_inline/backend_inline.py:90\u001b[0m, in \u001b[0;36mshow\u001b[0;34m(close, block)\u001b[0m\n\u001b[1;32m     88\u001b[0m \u001b[38;5;28;01mtry\u001b[39;00m:\n\u001b[1;32m     89\u001b[0m     \u001b[38;5;28;01mfor\u001b[39;00m figure_manager \u001b[38;5;129;01min\u001b[39;00m Gcf\u001b[38;5;241m.\u001b[39mget_all_fig_managers():\n\u001b[0;32m---> 90\u001b[0m         \u001b[43mdisplay\u001b[49m\u001b[43m(\u001b[49m\n\u001b[1;32m     91\u001b[0m \u001b[43m            \u001b[49m\u001b[43mfigure_manager\u001b[49m\u001b[38;5;241;43m.\u001b[39;49m\u001b[43mcanvas\u001b[49m\u001b[38;5;241;43m.\u001b[39;49m\u001b[43mfigure\u001b[49m\u001b[43m,\u001b[49m\n\u001b[1;32m     92\u001b[0m \u001b[43m            \u001b[49m\u001b[43mmetadata\u001b[49m\u001b[38;5;241;43m=\u001b[39;49m\u001b[43m_fetch_figure_metadata\u001b[49m\u001b[43m(\u001b[49m\u001b[43mfigure_manager\u001b[49m\u001b[38;5;241;43m.\u001b[39;49m\u001b[43mcanvas\u001b[49m\u001b[38;5;241;43m.\u001b[39;49m\u001b[43mfigure\u001b[49m\u001b[43m)\u001b[49m\n\u001b[1;32m     93\u001b[0m \u001b[43m        \u001b[49m\u001b[43m)\u001b[49m\n\u001b[1;32m     94\u001b[0m \u001b[38;5;28;01mfinally\u001b[39;00m:\n\u001b[1;32m     95\u001b[0m     show\u001b[38;5;241m.\u001b[39m_to_draw \u001b[38;5;241m=\u001b[39m []\n",
      "File \u001b[0;32m/opt/conda/lib/python3.11/site-packages/IPython/core/display_functions.py:298\u001b[0m, in \u001b[0;36mdisplay\u001b[0;34m(include, exclude, metadata, transient, display_id, raw, clear, *objs, **kwargs)\u001b[0m\n\u001b[1;32m    296\u001b[0m     publish_display_data(data\u001b[38;5;241m=\u001b[39mobj, metadata\u001b[38;5;241m=\u001b[39mmetadata, \u001b[38;5;241m*\u001b[39m\u001b[38;5;241m*\u001b[39mkwargs)\n\u001b[1;32m    297\u001b[0m \u001b[38;5;28;01melse\u001b[39;00m:\n\u001b[0;32m--> 298\u001b[0m     format_dict, md_dict \u001b[38;5;241m=\u001b[39m \u001b[38;5;28;43mformat\u001b[39;49m\u001b[43m(\u001b[49m\u001b[43mobj\u001b[49m\u001b[43m,\u001b[49m\u001b[43m \u001b[49m\u001b[43minclude\u001b[49m\u001b[38;5;241;43m=\u001b[39;49m\u001b[43minclude\u001b[49m\u001b[43m,\u001b[49m\u001b[43m \u001b[49m\u001b[43mexclude\u001b[49m\u001b[38;5;241;43m=\u001b[39;49m\u001b[43mexclude\u001b[49m\u001b[43m)\u001b[49m\n\u001b[1;32m    299\u001b[0m     \u001b[38;5;28;01mif\u001b[39;00m \u001b[38;5;129;01mnot\u001b[39;00m format_dict:\n\u001b[1;32m    300\u001b[0m         \u001b[38;5;66;03m# nothing to display (e.g. _ipython_display_ took over)\u001b[39;00m\n\u001b[1;32m    301\u001b[0m         \u001b[38;5;28;01mcontinue\u001b[39;00m\n",
      "File \u001b[0;32m/opt/conda/lib/python3.11/site-packages/IPython/core/formatters.py:179\u001b[0m, in \u001b[0;36mDisplayFormatter.format\u001b[0;34m(self, obj, include, exclude)\u001b[0m\n\u001b[1;32m    177\u001b[0m md \u001b[38;5;241m=\u001b[39m \u001b[38;5;28;01mNone\u001b[39;00m\n\u001b[1;32m    178\u001b[0m \u001b[38;5;28;01mtry\u001b[39;00m:\n\u001b[0;32m--> 179\u001b[0m     data \u001b[38;5;241m=\u001b[39m \u001b[43mformatter\u001b[49m\u001b[43m(\u001b[49m\u001b[43mobj\u001b[49m\u001b[43m)\u001b[49m\n\u001b[1;32m    180\u001b[0m \u001b[38;5;28;01mexcept\u001b[39;00m:\n\u001b[1;32m    181\u001b[0m     \u001b[38;5;66;03m# FIXME: log the exception\u001b[39;00m\n\u001b[1;32m    182\u001b[0m     \u001b[38;5;28;01mraise\u001b[39;00m\n",
      "File \u001b[0;32m/opt/conda/lib/python3.11/site-packages/decorator.py:232\u001b[0m, in \u001b[0;36mdecorate.<locals>.fun\u001b[0;34m(*args, **kw)\u001b[0m\n\u001b[1;32m    230\u001b[0m \u001b[38;5;28;01mif\u001b[39;00m \u001b[38;5;129;01mnot\u001b[39;00m kwsyntax:\n\u001b[1;32m    231\u001b[0m     args, kw \u001b[38;5;241m=\u001b[39m fix(args, kw, sig)\n\u001b[0;32m--> 232\u001b[0m \u001b[38;5;28;01mreturn\u001b[39;00m \u001b[43mcaller\u001b[49m\u001b[43m(\u001b[49m\u001b[43mfunc\u001b[49m\u001b[43m,\u001b[49m\u001b[43m \u001b[49m\u001b[38;5;241;43m*\u001b[39;49m\u001b[43m(\u001b[49m\u001b[43mextras\u001b[49m\u001b[43m \u001b[49m\u001b[38;5;241;43m+\u001b[39;49m\u001b[43m \u001b[49m\u001b[43margs\u001b[49m\u001b[43m)\u001b[49m\u001b[43m,\u001b[49m\u001b[43m \u001b[49m\u001b[38;5;241;43m*\u001b[39;49m\u001b[38;5;241;43m*\u001b[39;49m\u001b[43mkw\u001b[49m\u001b[43m)\u001b[49m\n",
      "File \u001b[0;32m/opt/conda/lib/python3.11/site-packages/IPython/core/formatters.py:223\u001b[0m, in \u001b[0;36mcatch_format_error\u001b[0;34m(method, self, *args, **kwargs)\u001b[0m\n\u001b[1;32m    221\u001b[0m \u001b[38;5;250m\u001b[39m\u001b[38;5;124;03m\"\"\"show traceback on failed format call\"\"\"\u001b[39;00m\n\u001b[1;32m    222\u001b[0m \u001b[38;5;28;01mtry\u001b[39;00m:\n\u001b[0;32m--> 223\u001b[0m     r \u001b[38;5;241m=\u001b[39m \u001b[43mmethod\u001b[49m\u001b[43m(\u001b[49m\u001b[38;5;28;43mself\u001b[39;49m\u001b[43m,\u001b[49m\u001b[43m \u001b[49m\u001b[38;5;241;43m*\u001b[39;49m\u001b[43margs\u001b[49m\u001b[43m,\u001b[49m\u001b[43m \u001b[49m\u001b[38;5;241;43m*\u001b[39;49m\u001b[38;5;241;43m*\u001b[39;49m\u001b[43mkwargs\u001b[49m\u001b[43m)\u001b[49m\n\u001b[1;32m    224\u001b[0m \u001b[38;5;28;01mexcept\u001b[39;00m \u001b[38;5;167;01mNotImplementedError\u001b[39;00m:\n\u001b[1;32m    225\u001b[0m     \u001b[38;5;66;03m# don't warn on NotImplementedErrors\u001b[39;00m\n\u001b[1;32m    226\u001b[0m     \u001b[38;5;28;01mreturn\u001b[39;00m \u001b[38;5;28mself\u001b[39m\u001b[38;5;241m.\u001b[39m_check_return(\u001b[38;5;28;01mNone\u001b[39;00m, args[\u001b[38;5;241m0\u001b[39m])\n",
      "File \u001b[0;32m/opt/conda/lib/python3.11/site-packages/IPython/core/formatters.py:340\u001b[0m, in \u001b[0;36mBaseFormatter.__call__\u001b[0;34m(self, obj)\u001b[0m\n\u001b[1;32m    338\u001b[0m     \u001b[38;5;28;01mpass\u001b[39;00m\n\u001b[1;32m    339\u001b[0m \u001b[38;5;28;01melse\u001b[39;00m:\n\u001b[0;32m--> 340\u001b[0m     \u001b[38;5;28;01mreturn\u001b[39;00m \u001b[43mprinter\u001b[49m\u001b[43m(\u001b[49m\u001b[43mobj\u001b[49m\u001b[43m)\u001b[49m\n\u001b[1;32m    341\u001b[0m \u001b[38;5;66;03m# Finally look for special method names\u001b[39;00m\n\u001b[1;32m    342\u001b[0m method \u001b[38;5;241m=\u001b[39m get_real_method(obj, \u001b[38;5;28mself\u001b[39m\u001b[38;5;241m.\u001b[39mprint_method)\n",
      "File \u001b[0;32m/opt/conda/lib/python3.11/site-packages/IPython/core/pylabtools.py:152\u001b[0m, in \u001b[0;36mprint_figure\u001b[0;34m(fig, fmt, bbox_inches, base64, **kwargs)\u001b[0m\n\u001b[1;32m    149\u001b[0m     \u001b[38;5;28;01mfrom\u001b[39;00m \u001b[38;5;21;01mmatplotlib\u001b[39;00m\u001b[38;5;21;01m.\u001b[39;00m\u001b[38;5;21;01mbackend_bases\u001b[39;00m \u001b[38;5;28;01mimport\u001b[39;00m FigureCanvasBase\n\u001b[1;32m    150\u001b[0m     FigureCanvasBase(fig)\n\u001b[0;32m--> 152\u001b[0m \u001b[43mfig\u001b[49m\u001b[38;5;241;43m.\u001b[39;49m\u001b[43mcanvas\u001b[49m\u001b[38;5;241;43m.\u001b[39;49m\u001b[43mprint_figure\u001b[49m\u001b[43m(\u001b[49m\u001b[43mbytes_io\u001b[49m\u001b[43m,\u001b[49m\u001b[43m \u001b[49m\u001b[38;5;241;43m*\u001b[39;49m\u001b[38;5;241;43m*\u001b[39;49m\u001b[43mkw\u001b[49m\u001b[43m)\u001b[49m\n\u001b[1;32m    153\u001b[0m data \u001b[38;5;241m=\u001b[39m bytes_io\u001b[38;5;241m.\u001b[39mgetvalue()\n\u001b[1;32m    154\u001b[0m \u001b[38;5;28;01mif\u001b[39;00m fmt \u001b[38;5;241m==\u001b[39m \u001b[38;5;124m'\u001b[39m\u001b[38;5;124msvg\u001b[39m\u001b[38;5;124m'\u001b[39m:\n",
      "File \u001b[0;32m/opt/conda/lib/python3.11/site-packages/matplotlib/backend_bases.py:2366\u001b[0m, in \u001b[0;36mFigureCanvasBase.print_figure\u001b[0;34m(self, filename, dpi, facecolor, edgecolor, orientation, format, bbox_inches, pad_inches, bbox_extra_artists, backend, **kwargs)\u001b[0m\n\u001b[1;32m   2362\u001b[0m \u001b[38;5;28;01mtry\u001b[39;00m:\n\u001b[1;32m   2363\u001b[0m     \u001b[38;5;66;03m# _get_renderer may change the figure dpi (as vector formats\u001b[39;00m\n\u001b[1;32m   2364\u001b[0m     \u001b[38;5;66;03m# force the figure dpi to 72), so we need to set it again here.\u001b[39;00m\n\u001b[1;32m   2365\u001b[0m     \u001b[38;5;28;01mwith\u001b[39;00m cbook\u001b[38;5;241m.\u001b[39m_setattr_cm(\u001b[38;5;28mself\u001b[39m\u001b[38;5;241m.\u001b[39mfigure, dpi\u001b[38;5;241m=\u001b[39mdpi):\n\u001b[0;32m-> 2366\u001b[0m         result \u001b[38;5;241m=\u001b[39m \u001b[43mprint_method\u001b[49m\u001b[43m(\u001b[49m\n\u001b[1;32m   2367\u001b[0m \u001b[43m            \u001b[49m\u001b[43mfilename\u001b[49m\u001b[43m,\u001b[49m\n\u001b[1;32m   2368\u001b[0m \u001b[43m            \u001b[49m\u001b[43mfacecolor\u001b[49m\u001b[38;5;241;43m=\u001b[39;49m\u001b[43mfacecolor\u001b[49m\u001b[43m,\u001b[49m\n\u001b[1;32m   2369\u001b[0m \u001b[43m            \u001b[49m\u001b[43medgecolor\u001b[49m\u001b[38;5;241;43m=\u001b[39;49m\u001b[43medgecolor\u001b[49m\u001b[43m,\u001b[49m\n\u001b[1;32m   2370\u001b[0m \u001b[43m            \u001b[49m\u001b[43morientation\u001b[49m\u001b[38;5;241;43m=\u001b[39;49m\u001b[43morientation\u001b[49m\u001b[43m,\u001b[49m\n\u001b[1;32m   2371\u001b[0m \u001b[43m            \u001b[49m\u001b[43mbbox_inches_restore\u001b[49m\u001b[38;5;241;43m=\u001b[39;49m\u001b[43m_bbox_inches_restore\u001b[49m\u001b[43m,\u001b[49m\n\u001b[1;32m   2372\u001b[0m \u001b[43m            \u001b[49m\u001b[38;5;241;43m*\u001b[39;49m\u001b[38;5;241;43m*\u001b[39;49m\u001b[43mkwargs\u001b[49m\u001b[43m)\u001b[49m\n\u001b[1;32m   2373\u001b[0m \u001b[38;5;28;01mfinally\u001b[39;00m:\n\u001b[1;32m   2374\u001b[0m     \u001b[38;5;28;01mif\u001b[39;00m bbox_inches \u001b[38;5;129;01mand\u001b[39;00m restore_bbox:\n",
      "File \u001b[0;32m/opt/conda/lib/python3.11/site-packages/matplotlib/backend_bases.py:2232\u001b[0m, in \u001b[0;36mFigureCanvasBase._switch_canvas_and_return_print_method.<locals>.<lambda>\u001b[0;34m(*args, **kwargs)\u001b[0m\n\u001b[1;32m   2228\u001b[0m     optional_kws \u001b[38;5;241m=\u001b[39m {  \u001b[38;5;66;03m# Passed by print_figure for other renderers.\u001b[39;00m\n\u001b[1;32m   2229\u001b[0m         \u001b[38;5;124m\"\u001b[39m\u001b[38;5;124mdpi\u001b[39m\u001b[38;5;124m\"\u001b[39m, \u001b[38;5;124m\"\u001b[39m\u001b[38;5;124mfacecolor\u001b[39m\u001b[38;5;124m\"\u001b[39m, \u001b[38;5;124m\"\u001b[39m\u001b[38;5;124medgecolor\u001b[39m\u001b[38;5;124m\"\u001b[39m, \u001b[38;5;124m\"\u001b[39m\u001b[38;5;124morientation\u001b[39m\u001b[38;5;124m\"\u001b[39m,\n\u001b[1;32m   2230\u001b[0m         \u001b[38;5;124m\"\u001b[39m\u001b[38;5;124mbbox_inches_restore\u001b[39m\u001b[38;5;124m\"\u001b[39m}\n\u001b[1;32m   2231\u001b[0m     skip \u001b[38;5;241m=\u001b[39m optional_kws \u001b[38;5;241m-\u001b[39m {\u001b[38;5;241m*\u001b[39minspect\u001b[38;5;241m.\u001b[39msignature(meth)\u001b[38;5;241m.\u001b[39mparameters}\n\u001b[0;32m-> 2232\u001b[0m     print_method \u001b[38;5;241m=\u001b[39m functools\u001b[38;5;241m.\u001b[39mwraps(meth)(\u001b[38;5;28;01mlambda\u001b[39;00m \u001b[38;5;241m*\u001b[39margs, \u001b[38;5;241m*\u001b[39m\u001b[38;5;241m*\u001b[39mkwargs: \u001b[43mmeth\u001b[49m\u001b[43m(\u001b[49m\n\u001b[1;32m   2233\u001b[0m \u001b[43m        \u001b[49m\u001b[38;5;241;43m*\u001b[39;49m\u001b[43margs\u001b[49m\u001b[43m,\u001b[49m\u001b[43m \u001b[49m\u001b[38;5;241;43m*\u001b[39;49m\u001b[38;5;241;43m*\u001b[39;49m\u001b[43m{\u001b[49m\u001b[43mk\u001b[49m\u001b[43m:\u001b[49m\u001b[43m \u001b[49m\u001b[43mv\u001b[49m\u001b[43m \u001b[49m\u001b[38;5;28;43;01mfor\u001b[39;49;00m\u001b[43m \u001b[49m\u001b[43mk\u001b[49m\u001b[43m,\u001b[49m\u001b[43m \u001b[49m\u001b[43mv\u001b[49m\u001b[43m \u001b[49m\u001b[38;5;129;43;01min\u001b[39;49;00m\u001b[43m \u001b[49m\u001b[43mkwargs\u001b[49m\u001b[38;5;241;43m.\u001b[39;49m\u001b[43mitems\u001b[49m\u001b[43m(\u001b[49m\u001b[43m)\u001b[49m\u001b[43m \u001b[49m\u001b[38;5;28;43;01mif\u001b[39;49;00m\u001b[43m \u001b[49m\u001b[43mk\u001b[49m\u001b[43m \u001b[49m\u001b[38;5;129;43;01mnot\u001b[39;49;00m\u001b[43m \u001b[49m\u001b[38;5;129;43;01min\u001b[39;49;00m\u001b[43m \u001b[49m\u001b[43mskip\u001b[49m\u001b[43m}\u001b[49m\u001b[43m)\u001b[49m)\n\u001b[1;32m   2234\u001b[0m \u001b[38;5;28;01melse\u001b[39;00m:  \u001b[38;5;66;03m# Let third-parties do as they see fit.\u001b[39;00m\n\u001b[1;32m   2235\u001b[0m     print_method \u001b[38;5;241m=\u001b[39m meth\n",
      "File \u001b[0;32m/opt/conda/lib/python3.11/site-packages/matplotlib/backends/backend_agg.py:509\u001b[0m, in \u001b[0;36mFigureCanvasAgg.print_png\u001b[0;34m(self, filename_or_obj, metadata, pil_kwargs)\u001b[0m\n\u001b[1;32m    462\u001b[0m \u001b[38;5;28;01mdef\u001b[39;00m \u001b[38;5;21mprint_png\u001b[39m(\u001b[38;5;28mself\u001b[39m, filename_or_obj, \u001b[38;5;241m*\u001b[39m, metadata\u001b[38;5;241m=\u001b[39m\u001b[38;5;28;01mNone\u001b[39;00m, pil_kwargs\u001b[38;5;241m=\u001b[39m\u001b[38;5;28;01mNone\u001b[39;00m):\n\u001b[1;32m    463\u001b[0m \u001b[38;5;250m    \u001b[39m\u001b[38;5;124;03m\"\"\"\u001b[39;00m\n\u001b[1;32m    464\u001b[0m \u001b[38;5;124;03m    Write the figure to a PNG file.\u001b[39;00m\n\u001b[1;32m    465\u001b[0m \n\u001b[0;32m   (...)\u001b[0m\n\u001b[1;32m    507\u001b[0m \u001b[38;5;124;03m        *metadata*, including the default 'Software' key.\u001b[39;00m\n\u001b[1;32m    508\u001b[0m \u001b[38;5;124;03m    \"\"\"\u001b[39;00m\n\u001b[0;32m--> 509\u001b[0m     \u001b[38;5;28;43mself\u001b[39;49m\u001b[38;5;241;43m.\u001b[39;49m\u001b[43m_print_pil\u001b[49m\u001b[43m(\u001b[49m\u001b[43mfilename_or_obj\u001b[49m\u001b[43m,\u001b[49m\u001b[43m \u001b[49m\u001b[38;5;124;43m\"\u001b[39;49m\u001b[38;5;124;43mpng\u001b[39;49m\u001b[38;5;124;43m\"\u001b[39;49m\u001b[43m,\u001b[49m\u001b[43m \u001b[49m\u001b[43mpil_kwargs\u001b[49m\u001b[43m,\u001b[49m\u001b[43m \u001b[49m\u001b[43mmetadata\u001b[49m\u001b[43m)\u001b[49m\n",
      "File \u001b[0;32m/opt/conda/lib/python3.11/site-packages/matplotlib/backends/backend_agg.py:458\u001b[0m, in \u001b[0;36mFigureCanvasAgg._print_pil\u001b[0;34m(self, filename_or_obj, fmt, pil_kwargs, metadata)\u001b[0m\n\u001b[1;32m    453\u001b[0m \u001b[38;5;250m\u001b[39m\u001b[38;5;124;03m\"\"\"\u001b[39;00m\n\u001b[1;32m    454\u001b[0m \u001b[38;5;124;03mDraw the canvas, then save it using `.image.imsave` (to which\u001b[39;00m\n\u001b[1;32m    455\u001b[0m \u001b[38;5;124;03m*pil_kwargs* and *metadata* are forwarded).\u001b[39;00m\n\u001b[1;32m    456\u001b[0m \u001b[38;5;124;03m\"\"\"\u001b[39;00m\n\u001b[1;32m    457\u001b[0m FigureCanvasAgg\u001b[38;5;241m.\u001b[39mdraw(\u001b[38;5;28mself\u001b[39m)\n\u001b[0;32m--> 458\u001b[0m \u001b[43mmpl\u001b[49m\u001b[38;5;241;43m.\u001b[39;49m\u001b[43mimage\u001b[49m\u001b[38;5;241;43m.\u001b[39;49m\u001b[43mimsave\u001b[49m\u001b[43m(\u001b[49m\n\u001b[1;32m    459\u001b[0m \u001b[43m    \u001b[49m\u001b[43mfilename_or_obj\u001b[49m\u001b[43m,\u001b[49m\u001b[43m \u001b[49m\u001b[38;5;28;43mself\u001b[39;49m\u001b[38;5;241;43m.\u001b[39;49m\u001b[43mbuffer_rgba\u001b[49m\u001b[43m(\u001b[49m\u001b[43m)\u001b[49m\u001b[43m,\u001b[49m\u001b[43m \u001b[49m\u001b[38;5;28;43mformat\u001b[39;49m\u001b[38;5;241;43m=\u001b[39;49m\u001b[43mfmt\u001b[49m\u001b[43m,\u001b[49m\u001b[43m \u001b[49m\u001b[43morigin\u001b[49m\u001b[38;5;241;43m=\u001b[39;49m\u001b[38;5;124;43m\"\u001b[39;49m\u001b[38;5;124;43mupper\u001b[39;49m\u001b[38;5;124;43m\"\u001b[39;49m\u001b[43m,\u001b[49m\n\u001b[1;32m    460\u001b[0m \u001b[43m    \u001b[49m\u001b[43mdpi\u001b[49m\u001b[38;5;241;43m=\u001b[39;49m\u001b[38;5;28;43mself\u001b[39;49m\u001b[38;5;241;43m.\u001b[39;49m\u001b[43mfigure\u001b[49m\u001b[38;5;241;43m.\u001b[39;49m\u001b[43mdpi\u001b[49m\u001b[43m,\u001b[49m\u001b[43m \u001b[49m\u001b[43mmetadata\u001b[49m\u001b[38;5;241;43m=\u001b[39;49m\u001b[43mmetadata\u001b[49m\u001b[43m,\u001b[49m\u001b[43m \u001b[49m\u001b[43mpil_kwargs\u001b[49m\u001b[38;5;241;43m=\u001b[39;49m\u001b[43mpil_kwargs\u001b[49m\u001b[43m)\u001b[49m\n",
      "File \u001b[0;32m/opt/conda/lib/python3.11/site-packages/matplotlib/image.py:1689\u001b[0m, in \u001b[0;36mimsave\u001b[0;34m(fname, arr, vmin, vmax, cmap, format, origin, dpi, metadata, pil_kwargs)\u001b[0m\n\u001b[1;32m   1687\u001b[0m pil_kwargs\u001b[38;5;241m.\u001b[39msetdefault(\u001b[38;5;124m\"\u001b[39m\u001b[38;5;124mformat\u001b[39m\u001b[38;5;124m\"\u001b[39m, \u001b[38;5;28mformat\u001b[39m)\n\u001b[1;32m   1688\u001b[0m pil_kwargs\u001b[38;5;241m.\u001b[39msetdefault(\u001b[38;5;124m\"\u001b[39m\u001b[38;5;124mdpi\u001b[39m\u001b[38;5;124m\"\u001b[39m, (dpi, dpi))\n\u001b[0;32m-> 1689\u001b[0m \u001b[43mimage\u001b[49m\u001b[38;5;241;43m.\u001b[39;49m\u001b[43msave\u001b[49m\u001b[43m(\u001b[49m\u001b[43mfname\u001b[49m\u001b[43m,\u001b[49m\u001b[43m \u001b[49m\u001b[38;5;241;43m*\u001b[39;49m\u001b[38;5;241;43m*\u001b[39;49m\u001b[43mpil_kwargs\u001b[49m\u001b[43m)\u001b[49m\n",
      "File \u001b[0;32m/opt/conda/lib/python3.11/site-packages/PIL/Image.py:2413\u001b[0m, in \u001b[0;36mImage.save\u001b[0;34m(self, fp, format, **params)\u001b[0m\n\u001b[1;32m   2410\u001b[0m         fp \u001b[38;5;241m=\u001b[39m builtins\u001b[38;5;241m.\u001b[39mopen(filename, \u001b[38;5;124m\"\u001b[39m\u001b[38;5;124mw+b\u001b[39m\u001b[38;5;124m\"\u001b[39m)\n\u001b[1;32m   2412\u001b[0m \u001b[38;5;28;01mtry\u001b[39;00m:\n\u001b[0;32m-> 2413\u001b[0m     \u001b[43msave_handler\u001b[49m\u001b[43m(\u001b[49m\u001b[38;5;28;43mself\u001b[39;49m\u001b[43m,\u001b[49m\u001b[43m \u001b[49m\u001b[43mfp\u001b[49m\u001b[43m,\u001b[49m\u001b[43m \u001b[49m\u001b[43mfilename\u001b[49m\u001b[43m)\u001b[49m\n\u001b[1;32m   2414\u001b[0m \u001b[38;5;28;01mexcept\u001b[39;00m \u001b[38;5;167;01mException\u001b[39;00m:\n\u001b[1;32m   2415\u001b[0m     \u001b[38;5;28;01mif\u001b[39;00m open_fp:\n",
      "File \u001b[0;32m/opt/conda/lib/python3.11/site-packages/PIL/PngImagePlugin.py:1398\u001b[0m, in \u001b[0;36m_save\u001b[0;34m(im, fp, filename, chunk, save_all)\u001b[0m\n\u001b[1;32m   1396\u001b[0m     _write_multiple_frames(im, fp, chunk, rawmode, default_image, append_images)\n\u001b[1;32m   1397\u001b[0m \u001b[38;5;28;01melse\u001b[39;00m:\n\u001b[0;32m-> 1398\u001b[0m     \u001b[43mImageFile\u001b[49m\u001b[38;5;241;43m.\u001b[39;49m\u001b[43m_save\u001b[49m\u001b[43m(\u001b[49m\u001b[43mim\u001b[49m\u001b[43m,\u001b[49m\u001b[43m \u001b[49m\u001b[43m_idat\u001b[49m\u001b[43m(\u001b[49m\u001b[43mfp\u001b[49m\u001b[43m,\u001b[49m\u001b[43m \u001b[49m\u001b[43mchunk\u001b[49m\u001b[43m)\u001b[49m\u001b[43m,\u001b[49m\u001b[43m \u001b[49m\u001b[43m[\u001b[49m\u001b[43m(\u001b[49m\u001b[38;5;124;43m\"\u001b[39;49m\u001b[38;5;124;43mzip\u001b[39;49m\u001b[38;5;124;43m\"\u001b[39;49m\u001b[43m,\u001b[49m\u001b[43m \u001b[49m\u001b[43m(\u001b[49m\u001b[38;5;241;43m0\u001b[39;49m\u001b[43m,\u001b[49m\u001b[43m \u001b[49m\u001b[38;5;241;43m0\u001b[39;49m\u001b[43m)\u001b[49m\u001b[43m \u001b[49m\u001b[38;5;241;43m+\u001b[39;49m\u001b[43m \u001b[49m\u001b[43mim\u001b[49m\u001b[38;5;241;43m.\u001b[39;49m\u001b[43msize\u001b[49m\u001b[43m,\u001b[49m\u001b[43m \u001b[49m\u001b[38;5;241;43m0\u001b[39;49m\u001b[43m,\u001b[49m\u001b[43m \u001b[49m\u001b[43mrawmode\u001b[49m\u001b[43m)\u001b[49m\u001b[43m]\u001b[49m\u001b[43m)\u001b[49m\n\u001b[1;32m   1400\u001b[0m \u001b[38;5;28;01mif\u001b[39;00m info:\n\u001b[1;32m   1401\u001b[0m     \u001b[38;5;28;01mfor\u001b[39;00m info_chunk \u001b[38;5;129;01min\u001b[39;00m info\u001b[38;5;241m.\u001b[39mchunks:\n",
      "File \u001b[0;32m/opt/conda/lib/python3.11/site-packages/PIL/ImageFile.py:519\u001b[0m, in \u001b[0;36m_save\u001b[0;34m(im, fp, tile, bufsize)\u001b[0m\n\u001b[1;32m    517\u001b[0m     _encode_tile(im, fp, tile, bufsize, fh)\n\u001b[1;32m    518\u001b[0m \u001b[38;5;28;01mexcept\u001b[39;00m (\u001b[38;5;167;01mAttributeError\u001b[39;00m, io\u001b[38;5;241m.\u001b[39mUnsupportedOperation) \u001b[38;5;28;01mas\u001b[39;00m exc:\n\u001b[0;32m--> 519\u001b[0m     \u001b[43m_encode_tile\u001b[49m\u001b[43m(\u001b[49m\u001b[43mim\u001b[49m\u001b[43m,\u001b[49m\u001b[43m \u001b[49m\u001b[43mfp\u001b[49m\u001b[43m,\u001b[49m\u001b[43m \u001b[49m\u001b[43mtile\u001b[49m\u001b[43m,\u001b[49m\u001b[43m \u001b[49m\u001b[43mbufsize\u001b[49m\u001b[43m,\u001b[49m\u001b[43m \u001b[49m\u001b[38;5;28;43;01mNone\u001b[39;49;00m\u001b[43m,\u001b[49m\u001b[43m \u001b[49m\u001b[43mexc\u001b[49m\u001b[43m)\u001b[49m\n\u001b[1;32m    520\u001b[0m \u001b[38;5;28;01mif\u001b[39;00m \u001b[38;5;28mhasattr\u001b[39m(fp, \u001b[38;5;124m\"\u001b[39m\u001b[38;5;124mflush\u001b[39m\u001b[38;5;124m\"\u001b[39m):\n\u001b[1;32m    521\u001b[0m     fp\u001b[38;5;241m.\u001b[39mflush()\n",
      "File \u001b[0;32m/opt/conda/lib/python3.11/site-packages/PIL/ImageFile.py:538\u001b[0m, in \u001b[0;36m_encode_tile\u001b[0;34m(im, fp, tile, bufsize, fh, exc)\u001b[0m\n\u001b[1;32m    535\u001b[0m \u001b[38;5;28;01mif\u001b[39;00m exc:\n\u001b[1;32m    536\u001b[0m     \u001b[38;5;66;03m# compress to Python file-compatible object\u001b[39;00m\n\u001b[1;32m    537\u001b[0m     \u001b[38;5;28;01mwhile\u001b[39;00m \u001b[38;5;28;01mTrue\u001b[39;00m:\n\u001b[0;32m--> 538\u001b[0m         errcode, data \u001b[38;5;241m=\u001b[39m \u001b[43mencoder\u001b[49m\u001b[38;5;241;43m.\u001b[39;49m\u001b[43mencode\u001b[49m\u001b[43m(\u001b[49m\u001b[43mbufsize\u001b[49m\u001b[43m)\u001b[49m[\u001b[38;5;241m1\u001b[39m:]\n\u001b[1;32m    539\u001b[0m         fp\u001b[38;5;241m.\u001b[39mwrite(data)\n\u001b[1;32m    540\u001b[0m         \u001b[38;5;28;01mif\u001b[39;00m errcode:\n",
      "\u001b[0;31mKeyboardInterrupt\u001b[0m: "
     ]
    }
   ],
   "source": [
    "data_array = []\n",
    "timestamps = 100_000\n",
    "obs, info = env.reset()\n",
    "\n",
    "# Initialize a deque to keep the last 4 observations. \n",
    "# If your images are grayscale, shape might be (height, width), and for RGB, shape would be (height, width, channels).\n",
    "# Adjust the shape according to your environment's observation space.\n",
    "# For example, if an observation (image) has a shape of 64x64 with 3 channels (RGB), the deque shape will be (4, 64, 64, 3).\n",
    "# This is just an example, replace (64, 64, 3) with the actual shape of your observations.\n",
    "feature_queue = deque(maxlen=4)\n",
    "feature_queue.append()\n",
    "\n",
    "for t in range(timestamps):\n",
    "    action = env.action_space.sample()\n",
    "    obs, r, done, _, _ = env.step(action)\n",
    "    obs = obs['image']\n",
    "    \n",
    "    # Add the current observation to the queue.\n",
    "    feature_queue.append(obs)\n",
    "    \n",
    "    # Stack the images along a new axis to maintain individual image integrity.\n",
    "    # This will result in an array shape of (4, height, width, channels) if your images are RGB.\n",
    "    stacked_features = torch.cat(feature_queue, 1)\n",
    "    print(stacked_features.shape)\n",
    "    \n",
    "    if done:\n",
    "        obs, info = env.reset()\n",
    "        # Optionally, clear the image queue after reset if you want to start fresh for each episode.\n",
    "        image_queue.clear()"
   ]
  },
  {
   "cell_type": "code",
   "execution_count": 25,
   "id": "71ba4de4-d44d-421f-95ca-3338ba542ba5",
   "metadata": {},
   "outputs": [],
   "source": [
    "# np.savez(\"data/minigrid8x8/grid1/0.npz\", obs=data_array)"
   ]
  },
  {
   "cell_type": "code",
   "execution_count": 26,
   "id": "f39bf259-3306-4425-b076-b7661351c358",
   "metadata": {},
   "outputs": [],
   "source": [
    "# test = np.load(\"data/minigrid8x8/grid1/0.npz\")\n",
    "# test_data = list(test.values())[0]"
   ]
  },
  {
   "cell_type": "code",
   "execution_count": null,
   "id": "82539082-c7f9-4aa2-9946-3c829960cee2",
   "metadata": {},
   "outputs": [],
   "source": [
    "### TODO: Append each obs to numpy array and then compress with savez"
   ]
  },
  {
   "cell_type": "markdown",
   "id": "bd6140bd-1ff4-4ff6-91a2-735c5c4b7926",
   "metadata": {},
   "source": [
    "### Red Domain"
   ]
  },
  {
   "cell_type": "code",
   "execution_count": 28,
   "id": "329398b1-545a-48b4-a908-adee6bd7c596",
   "metadata": {},
   "outputs": [
    {
     "name": "stderr",
     "output_type": "stream",
     "text": [
      "100%|██████████| 100000/100000 [03:56<00:00, 422.75it/s]\n"
     ]
    }
   ],
   "source": [
    "red_data_array = []\n",
    "timestamps = 100_000\n",
    "obs, info = env.reset()\n",
    "for t in tqdm(range(timestamps)):\n",
    "    action = env.action_space.sample()\n",
    "    obs, r, done, _, _ = env.step(action)\n",
    "    obs = obs['image']\n",
    "    obs = color_shift_red(obs)\n",
    "    red_data_array.append(obs.astype(np.uint8))\n",
    "    if done:\n",
    "        obs, info = env.reset()"
   ]
  },
  {
   "cell_type": "code",
   "execution_count": 29,
   "id": "7f8f6646-a228-4b82-806a-9dea20470e41",
   "metadata": {},
   "outputs": [],
   "source": [
    "np.savez(\"data/minigrid8x8/grid2/0.npz\", obs=red_data_array)"
   ]
  },
  {
   "cell_type": "markdown",
   "id": "312f2340-dd5a-4a1b-8606-de9b4974b33c",
   "metadata": {},
   "source": [
    "### Cyan Domain"
   ]
  },
  {
   "cell_type": "code",
   "execution_count": 31,
   "id": "21f13bf2-209c-4c61-aa80-2f338c321f78",
   "metadata": {},
   "outputs": [
    {
     "name": "stderr",
     "output_type": "stream",
     "text": [
      "100%|██████████| 100000/100000 [04:03<00:00, 410.25it/s]\n"
     ]
    }
   ],
   "source": [
    "cyan_data_array = []\n",
    "timestamps = 100_000\n",
    "obs, info = env.reset()\n",
    "for t in tqdm(range(timestamps)):\n",
    "    action = env.action_space.sample()\n",
    "    obs, r, done, _, _ = env.step(action)\n",
    "    obs = obs['image']\n",
    "    obs = cyan_tint(obs)\n",
    "    cyan_data_array.append(obs.astype(np.uint8))\n",
    "    if done:\n",
    "        obs, info = env.reset()"
   ]
  },
  {
   "cell_type": "code",
   "execution_count": 32,
   "id": "888fffc6-a03b-45ff-916e-9821075bfdfa",
   "metadata": {},
   "outputs": [],
   "source": [
    "np.savez(\"data/minigrid8x8/grid3/0.npz\", obs=cyan_data_array)"
   ]
  },
  {
   "cell_type": "markdown",
   "id": "78b4dfeb-21cc-4b9c-b1ca-b1d00433a51f",
   "metadata": {},
   "source": [
    "### Purple Domain"
   ]
  },
  {
   "cell_type": "code",
   "execution_count": 34,
   "id": "06cc8fba-9db8-412a-98fb-a41be3e6839e",
   "metadata": {},
   "outputs": [
    {
     "name": "stderr",
     "output_type": "stream",
     "text": [
      "100%|██████████| 100000/100000 [03:52<00:00, 429.78it/s]\n"
     ]
    }
   ],
   "source": [
    "pruple_data_array = []\n",
    "timestamps = 100_000\n",
    "obs, info = env.reset()\n",
    "for t in tqdm(range(timestamps)):\n",
    "    action = env.action_space.sample()\n",
    "    obs, r, done, _, _ = env.step(action)\n",
    "    obs = obs['image']\n",
    "    obs = purple_tint(obs)\n",
    "    pruple_data_array.append(obs.astype(np.uint8))\n",
    "    if done:\n",
    "        obs, info = env.reset()"
   ]
  },
  {
   "cell_type": "code",
   "execution_count": 42,
   "id": "6a3ad861-dfd6-4313-8c9e-88cf4d48a949",
   "metadata": {},
   "outputs": [
    {
     "data": {
      "text/plain": [
       "(100000, 64, 64, 3)"
      ]
     },
     "execution_count": 42,
     "metadata": {},
     "output_type": "execute_result"
    }
   ],
   "source": [
    "pruple_data_array.shape"
   ]
  },
  {
   "cell_type": "code",
   "execution_count": 35,
   "id": "102f24bc-e226-400b-b2c3-c0acd5a2b5d5",
   "metadata": {},
   "outputs": [],
   "source": [
    "np.savez(\"data/minigrid8x8/grid4/0.npz\", obs=pruple_data_array)"
   ]
  },
  {
   "cell_type": "markdown",
   "id": "d8c0795a-0448-41ac-892e-9b375b22f829",
   "metadata": {},
   "source": [
    "### Green Domain"
   ]
  },
  {
   "cell_type": "code",
   "execution_count": 36,
   "id": "a798c412-b1bb-41ba-8d73-06dfd7fc7c51",
   "metadata": {},
   "outputs": [
    {
     "name": "stderr",
     "output_type": "stream",
     "text": [
      "100%|██████████| 100000/100000 [03:56<00:00, 422.63it/s]\n"
     ]
    }
   ],
   "source": [
    "green_data_array = []\n",
    "timestamps = 100_000\n",
    "obs, info = env.reset()\n",
    "for t in tqdm(range(timestamps)):\n",
    "    action = env.action_space.sample()\n",
    "    obs, r, done, _, _ = env.step(action)\n",
    "    obs = obs['image']\n",
    "    obs = color_shift_green(obs)\n",
    "    green_data_array.append(obs.astype(np.uint8))\n",
    "    if done:\n",
    "        obs, info = env.reset()"
   ]
  },
  {
   "cell_type": "code",
   "execution_count": 37,
   "id": "a7625902-74a9-4b41-9723-aab03d508877",
   "metadata": {},
   "outputs": [],
   "source": [
    "np.savez(\"data/minigrid8x8/grid5/0.npz\", obs=green_data_array)"
   ]
  },
  {
   "cell_type": "code",
   "execution_count": 38,
   "id": "c1ea875e-5ed7-4f54-8ee0-698a1c8dbb0f",
   "metadata": {},
   "outputs": [
    {
     "data": {
      "text/plain": [
       "(100000, 64, 64, 3)"
      ]
     },
     "execution_count": 38,
     "metadata": {},
     "output_type": "execute_result"
    }
   ],
   "source": [
    "grid1_0 = np.load('data/minigrid8x8/grid1/0.npz')\n",
    "list(grid1_0.values())[0].shape"
   ]
  },
  {
   "cell_type": "code",
   "execution_count": 39,
   "id": "1660ccf2-c537-4838-8bb3-a7ea8efcd917",
   "metadata": {},
   "outputs": [
    {
     "data": {
      "text/plain": [
       "(100000, 64, 64, 3)"
      ]
     },
     "execution_count": 39,
     "metadata": {},
     "output_type": "execute_result"
    }
   ],
   "source": [
    "grid2_0 = np.load('data/minigrid8x8/grid2/0.npz')\n",
    "list(grid2_0.values())[0].shape"
   ]
  },
  {
   "cell_type": "code",
   "execution_count": 40,
   "id": "484235f1-f19e-4b05-9317-e56feb98adbf",
   "metadata": {},
   "outputs": [
    {
     "data": {
      "text/plain": [
       "(100000, 64, 64, 3)"
      ]
     },
     "execution_count": 40,
     "metadata": {},
     "output_type": "execute_result"
    }
   ],
   "source": [
    "grid3_0 = np.load('data/minigrid8x8/grid3/0.npz')\n",
    "list(grid3_0.values())[0].shape"
   ]
  },
  {
   "cell_type": "code",
   "execution_count": 41,
   "id": "2a31f93a-7f36-48d8-8b2d-d0d376f7b85e",
   "metadata": {},
   "outputs": [
    {
     "data": {
      "text/plain": [
       "(100000, 64, 64, 3)"
      ]
     },
     "execution_count": 41,
     "metadata": {},
     "output_type": "execute_result"
    }
   ],
   "source": [
    "grid4_0 = np.load('data/minigrid8x8/grid4/0.npz')\n",
    "list(grid4_0.values())[0].shape"
   ]
  },
  {
   "cell_type": "code",
   "execution_count": 42,
   "id": "261fd354-88bf-42c2-838c-779ebb442982",
   "metadata": {},
   "outputs": [
    {
     "data": {
      "text/plain": [
       "(100000, 64, 64, 3)"
      ]
     },
     "execution_count": 42,
     "metadata": {},
     "output_type": "execute_result"
    }
   ],
   "source": [
    "grid5_0 = np.load('data/minigrid8x8/grid5/0.npz')\n",
    "list(grid5_0.values())[0].shape"
   ]
  }
 ],
 "metadata": {
  "kernelspec": {
   "display_name": "Python 3 (ipykernel)",
   "language": "python",
   "name": "python3"
  },
  "language_info": {
   "codemirror_mode": {
    "name": "ipython",
    "version": 3
   },
   "file_extension": ".py",
   "mimetype": "text/x-python",
   "name": "python",
   "nbconvert_exporter": "python",
   "pygments_lexer": "ipython3",
   "version": "3.11.5"
  }
 },
 "nbformat": 4,
 "nbformat_minor": 5
}
